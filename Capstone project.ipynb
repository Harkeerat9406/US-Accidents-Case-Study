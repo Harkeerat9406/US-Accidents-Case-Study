{
 "cells": [
  {
   "cell_type": "markdown",
   "id": "2a2c89ce-730b-436c-95f1-bb7c9e87c6d4",
   "metadata": {},
   "source": [
    "# <div style=\"color: blue; background-color: lightblue; text-align:center; padding: 20px; font-size: 30pt\">Title: US Accidents (2016-2023)"
   ]
  },
  {
   "cell_type": "markdown",
   "id": "6dda54b0-ba68-4135-b86c-8ddc95d4e284",
   "metadata": {},
   "source": [
    "### Color Description\n",
    "- <span style=\"color: red; background-color: white\">**Red**</span>  : Main headings  <br><br>\n",
    "- <span style=\"color: purple; background-color: beige\">**Purple**</span>  : Sub-headings  <br><br>\n",
    "- <span style= \"font-weight:500; color: rgb(247,28,98)\">Magenta</span> : Related to what data we will work <br><br>\n",
    "- <span style= \"color: yellow\">Yellow</span> : General inference <br><br>\n",
    "- <div class= \"alert alert-block alert-info\">Final conclusion after certain process</div>"
   ]
  },
  {
   "cell_type": "markdown",
   "id": "0629ae5e-93b5-4309-9b12-07b9de6660bb",
   "metadata": {},
   "source": [
    "<br>\n",
    "\n",
    "# <span style=\"color: red; background-color: white;\">Importing Tools</span>"
   ]
  },
  {
   "cell_type": "code",
   "execution_count": 4,
   "id": "a22c1162-9102-4dbe-ab69-5ac4c2d46120",
   "metadata": {},
   "outputs": [],
   "source": [
    "import pandas as pd\n",
    "import numpy as np\n",
    "import matplotlib.pyplot as plt\n",
    "from matplotlib import style\n",
    "import seaborn as sns\n",
    "\n",
    "sns.set_style('darkgrid')\n",
    "cmap = 'RdYlBu_r'"
   ]
  },
  {
   "cell_type": "markdown",
   "id": "aa5e0413-2a78-4d25-b103-3bed0e7bfc42",
   "metadata": {},
   "source": [
    "<br>\n",
    "\n",
    "# <span style=\"color: red; background-color: white;\">Data Preparation and Cleaning</span>\n",
    "\n",
    "- Loading csv file using pandas\n",
    "- Description of the dataset\n",
    "- Finding information about the data and columns\n",
    "- Fix any missing or incorrect values"
   ]
  },
  {
   "cell_type": "code",
   "execution_count": 6,
   "id": "1f2e8e92-c87f-4d97-9256-38830e9eb10e",
   "metadata": {},
   "outputs": [
    {
     "data": {
      "text/html": [
       "<div>\n",
       "<style scoped>\n",
       "    .dataframe tbody tr th:only-of-type {\n",
       "        vertical-align: middle;\n",
       "    }\n",
       "\n",
       "    .dataframe tbody tr th {\n",
       "        vertical-align: top;\n",
       "    }\n",
       "\n",
       "    .dataframe thead th {\n",
       "        text-align: right;\n",
       "    }\n",
       "</style>\n",
       "<table border=\"1\" class=\"dataframe\">\n",
       "  <thead>\n",
       "    <tr style=\"text-align: right;\">\n",
       "      <th></th>\n",
       "      <th>ID</th>\n",
       "      <th>Source</th>\n",
       "      <th>Severity</th>\n",
       "      <th>Start_Time</th>\n",
       "      <th>End_Time</th>\n",
       "      <th>Start_Lat</th>\n",
       "      <th>Start_Lng</th>\n",
       "      <th>End_Lat</th>\n",
       "      <th>End_Lng</th>\n",
       "      <th>Distance(mi)</th>\n",
       "      <th>...</th>\n",
       "      <th>Roundabout</th>\n",
       "      <th>Station</th>\n",
       "      <th>Stop</th>\n",
       "      <th>Traffic_Calming</th>\n",
       "      <th>Traffic_Signal</th>\n",
       "      <th>Turning_Loop</th>\n",
       "      <th>Sunrise_Sunset</th>\n",
       "      <th>Civil_Twilight</th>\n",
       "      <th>Nautical_Twilight</th>\n",
       "      <th>Astronomical_Twilight</th>\n",
       "    </tr>\n",
       "  </thead>\n",
       "  <tbody>\n",
       "    <tr>\n",
       "      <th>0</th>\n",
       "      <td>A-2047758</td>\n",
       "      <td>Source2</td>\n",
       "      <td>2</td>\n",
       "      <td>2019-06-12 10:10:56</td>\n",
       "      <td>2019-06-12 10:55:58</td>\n",
       "      <td>30.641211</td>\n",
       "      <td>-91.153481</td>\n",
       "      <td>NaN</td>\n",
       "      <td>NaN</td>\n",
       "      <td>0.000</td>\n",
       "      <td>...</td>\n",
       "      <td>False</td>\n",
       "      <td>False</td>\n",
       "      <td>False</td>\n",
       "      <td>False</td>\n",
       "      <td>True</td>\n",
       "      <td>False</td>\n",
       "      <td>Day</td>\n",
       "      <td>Day</td>\n",
       "      <td>Day</td>\n",
       "      <td>Day</td>\n",
       "    </tr>\n",
       "    <tr>\n",
       "      <th>1</th>\n",
       "      <td>A-4694324</td>\n",
       "      <td>Source1</td>\n",
       "      <td>2</td>\n",
       "      <td>2022-12-03 23:37:14.000000000</td>\n",
       "      <td>2022-12-04 01:56:53.000000000</td>\n",
       "      <td>38.990562</td>\n",
       "      <td>-77.399070</td>\n",
       "      <td>38.990037</td>\n",
       "      <td>-77.398282</td>\n",
       "      <td>0.056</td>\n",
       "      <td>...</td>\n",
       "      <td>False</td>\n",
       "      <td>False</td>\n",
       "      <td>False</td>\n",
       "      <td>False</td>\n",
       "      <td>False</td>\n",
       "      <td>False</td>\n",
       "      <td>Night</td>\n",
       "      <td>Night</td>\n",
       "      <td>Night</td>\n",
       "      <td>Night</td>\n",
       "    </tr>\n",
       "    <tr>\n",
       "      <th>2</th>\n",
       "      <td>A-5006183</td>\n",
       "      <td>Source1</td>\n",
       "      <td>2</td>\n",
       "      <td>2022-08-20 13:13:00.000000000</td>\n",
       "      <td>2022-08-20 15:22:45.000000000</td>\n",
       "      <td>34.661189</td>\n",
       "      <td>-120.492822</td>\n",
       "      <td>34.661189</td>\n",
       "      <td>-120.492442</td>\n",
       "      <td>0.022</td>\n",
       "      <td>...</td>\n",
       "      <td>False</td>\n",
       "      <td>False</td>\n",
       "      <td>False</td>\n",
       "      <td>False</td>\n",
       "      <td>True</td>\n",
       "      <td>False</td>\n",
       "      <td>Day</td>\n",
       "      <td>Day</td>\n",
       "      <td>Day</td>\n",
       "      <td>Day</td>\n",
       "    </tr>\n",
       "    <tr>\n",
       "      <th>3</th>\n",
       "      <td>A-4237356</td>\n",
       "      <td>Source1</td>\n",
       "      <td>2</td>\n",
       "      <td>2022-02-21 17:43:04</td>\n",
       "      <td>2022-02-21 19:43:23</td>\n",
       "      <td>43.680592</td>\n",
       "      <td>-92.993317</td>\n",
       "      <td>43.680574</td>\n",
       "      <td>-92.972223</td>\n",
       "      <td>1.054</td>\n",
       "      <td>...</td>\n",
       "      <td>False</td>\n",
       "      <td>False</td>\n",
       "      <td>False</td>\n",
       "      <td>False</td>\n",
       "      <td>False</td>\n",
       "      <td>False</td>\n",
       "      <td>Day</td>\n",
       "      <td>Day</td>\n",
       "      <td>Day</td>\n",
       "      <td>Day</td>\n",
       "    </tr>\n",
       "    <tr>\n",
       "      <th>4</th>\n",
       "      <td>A-6690583</td>\n",
       "      <td>Source1</td>\n",
       "      <td>2</td>\n",
       "      <td>2020-12-04 01:46:00</td>\n",
       "      <td>2020-12-04 04:13:09</td>\n",
       "      <td>35.395484</td>\n",
       "      <td>-118.985176</td>\n",
       "      <td>35.395476</td>\n",
       "      <td>-118.985995</td>\n",
       "      <td>0.046</td>\n",
       "      <td>...</td>\n",
       "      <td>False</td>\n",
       "      <td>False</td>\n",
       "      <td>False</td>\n",
       "      <td>False</td>\n",
       "      <td>False</td>\n",
       "      <td>False</td>\n",
       "      <td>Night</td>\n",
       "      <td>Night</td>\n",
       "      <td>Night</td>\n",
       "      <td>Night</td>\n",
       "    </tr>\n",
       "    <tr>\n",
       "      <th>...</th>\n",
       "      <td>...</td>\n",
       "      <td>...</td>\n",
       "      <td>...</td>\n",
       "      <td>...</td>\n",
       "      <td>...</td>\n",
       "      <td>...</td>\n",
       "      <td>...</td>\n",
       "      <td>...</td>\n",
       "      <td>...</td>\n",
       "      <td>...</td>\n",
       "      <td>...</td>\n",
       "      <td>...</td>\n",
       "      <td>...</td>\n",
       "      <td>...</td>\n",
       "      <td>...</td>\n",
       "      <td>...</td>\n",
       "      <td>...</td>\n",
       "      <td>...</td>\n",
       "      <td>...</td>\n",
       "      <td>...</td>\n",
       "      <td>...</td>\n",
       "    </tr>\n",
       "    <tr>\n",
       "      <th>499995</th>\n",
       "      <td>A-6077227</td>\n",
       "      <td>Source1</td>\n",
       "      <td>2</td>\n",
       "      <td>2021-12-15 07:30:00</td>\n",
       "      <td>2021-12-15 07:50:30</td>\n",
       "      <td>45.522510</td>\n",
       "      <td>-123.084104</td>\n",
       "      <td>45.520225</td>\n",
       "      <td>-123.084211</td>\n",
       "      <td>0.158</td>\n",
       "      <td>...</td>\n",
       "      <td>False</td>\n",
       "      <td>False</td>\n",
       "      <td>False</td>\n",
       "      <td>False</td>\n",
       "      <td>False</td>\n",
       "      <td>False</td>\n",
       "      <td>Night</td>\n",
       "      <td>Day</td>\n",
       "      <td>Day</td>\n",
       "      <td>Day</td>\n",
       "    </tr>\n",
       "    <tr>\n",
       "      <th>499996</th>\n",
       "      <td>A-6323243</td>\n",
       "      <td>Source1</td>\n",
       "      <td>2</td>\n",
       "      <td>2021-12-19 16:25:00</td>\n",
       "      <td>2021-12-19 17:40:37</td>\n",
       "      <td>26.702570</td>\n",
       "      <td>-80.111169</td>\n",
       "      <td>26.703141</td>\n",
       "      <td>-80.111133</td>\n",
       "      <td>0.040</td>\n",
       "      <td>...</td>\n",
       "      <td>False</td>\n",
       "      <td>False</td>\n",
       "      <td>False</td>\n",
       "      <td>False</td>\n",
       "      <td>False</td>\n",
       "      <td>False</td>\n",
       "      <td>Day</td>\n",
       "      <td>Day</td>\n",
       "      <td>Day</td>\n",
       "      <td>Day</td>\n",
       "    </tr>\n",
       "    <tr>\n",
       "      <th>499997</th>\n",
       "      <td>A-3789256</td>\n",
       "      <td>Source1</td>\n",
       "      <td>2</td>\n",
       "      <td>2022-04-13 19:28:29</td>\n",
       "      <td>2022-04-13 21:33:44</td>\n",
       "      <td>34.561862</td>\n",
       "      <td>-112.259620</td>\n",
       "      <td>34.566822</td>\n",
       "      <td>-112.267150</td>\n",
       "      <td>0.549</td>\n",
       "      <td>...</td>\n",
       "      <td>False</td>\n",
       "      <td>False</td>\n",
       "      <td>False</td>\n",
       "      <td>False</td>\n",
       "      <td>True</td>\n",
       "      <td>False</td>\n",
       "      <td>Night</td>\n",
       "      <td>Night</td>\n",
       "      <td>Day</td>\n",
       "      <td>Day</td>\n",
       "    </tr>\n",
       "    <tr>\n",
       "      <th>499998</th>\n",
       "      <td>A-7030381</td>\n",
       "      <td>Source1</td>\n",
       "      <td>3</td>\n",
       "      <td>2020-05-15 17:20:56</td>\n",
       "      <td>2020-05-15 17:50:56</td>\n",
       "      <td>38.406680</td>\n",
       "      <td>-78.619310</td>\n",
       "      <td>38.406680</td>\n",
       "      <td>-78.619310</td>\n",
       "      <td>0.000</td>\n",
       "      <td>...</td>\n",
       "      <td>False</td>\n",
       "      <td>False</td>\n",
       "      <td>False</td>\n",
       "      <td>False</td>\n",
       "      <td>True</td>\n",
       "      <td>False</td>\n",
       "      <td>Day</td>\n",
       "      <td>Day</td>\n",
       "      <td>Day</td>\n",
       "      <td>Day</td>\n",
       "    </tr>\n",
       "    <tr>\n",
       "      <th>499999</th>\n",
       "      <td>A-5438901</td>\n",
       "      <td>Source1</td>\n",
       "      <td>2</td>\n",
       "      <td>2022-04-02 23:23:13</td>\n",
       "      <td>2022-04-03 00:49:48</td>\n",
       "      <td>35.069358</td>\n",
       "      <td>-85.234410</td>\n",
       "      <td>35.070505</td>\n",
       "      <td>-85.233836</td>\n",
       "      <td>0.086</td>\n",
       "      <td>...</td>\n",
       "      <td>False</td>\n",
       "      <td>False</td>\n",
       "      <td>False</td>\n",
       "      <td>False</td>\n",
       "      <td>False</td>\n",
       "      <td>False</td>\n",
       "      <td>Night</td>\n",
       "      <td>Night</td>\n",
       "      <td>Night</td>\n",
       "      <td>Night</td>\n",
       "    </tr>\n",
       "  </tbody>\n",
       "</table>\n",
       "<p>500000 rows × 46 columns</p>\n",
       "</div>"
      ],
      "text/plain": [
       "               ID   Source  Severity                     Start_Time  \\\n",
       "0       A-2047758  Source2         2            2019-06-12 10:10:56   \n",
       "1       A-4694324  Source1         2  2022-12-03 23:37:14.000000000   \n",
       "2       A-5006183  Source1         2  2022-08-20 13:13:00.000000000   \n",
       "3       A-4237356  Source1         2            2022-02-21 17:43:04   \n",
       "4       A-6690583  Source1         2            2020-12-04 01:46:00   \n",
       "...           ...      ...       ...                            ...   \n",
       "499995  A-6077227  Source1         2            2021-12-15 07:30:00   \n",
       "499996  A-6323243  Source1         2            2021-12-19 16:25:00   \n",
       "499997  A-3789256  Source1         2            2022-04-13 19:28:29   \n",
       "499998  A-7030381  Source1         3            2020-05-15 17:20:56   \n",
       "499999  A-5438901  Source1         2            2022-04-02 23:23:13   \n",
       "\n",
       "                             End_Time  Start_Lat   Start_Lng    End_Lat  \\\n",
       "0                 2019-06-12 10:55:58  30.641211  -91.153481        NaN   \n",
       "1       2022-12-04 01:56:53.000000000  38.990562  -77.399070  38.990037   \n",
       "2       2022-08-20 15:22:45.000000000  34.661189 -120.492822  34.661189   \n",
       "3                 2022-02-21 19:43:23  43.680592  -92.993317  43.680574   \n",
       "4                 2020-12-04 04:13:09  35.395484 -118.985176  35.395476   \n",
       "...                               ...        ...         ...        ...   \n",
       "499995            2021-12-15 07:50:30  45.522510 -123.084104  45.520225   \n",
       "499996            2021-12-19 17:40:37  26.702570  -80.111169  26.703141   \n",
       "499997            2022-04-13 21:33:44  34.561862 -112.259620  34.566822   \n",
       "499998            2020-05-15 17:50:56  38.406680  -78.619310  38.406680   \n",
       "499999            2022-04-03 00:49:48  35.069358  -85.234410  35.070505   \n",
       "\n",
       "           End_Lng  Distance(mi)  ... Roundabout Station   Stop  \\\n",
       "0              NaN         0.000  ...      False   False  False   \n",
       "1       -77.398282         0.056  ...      False   False  False   \n",
       "2      -120.492442         0.022  ...      False   False  False   \n",
       "3       -92.972223         1.054  ...      False   False  False   \n",
       "4      -118.985995         0.046  ...      False   False  False   \n",
       "...            ...           ...  ...        ...     ...    ...   \n",
       "499995 -123.084211         0.158  ...      False   False  False   \n",
       "499996  -80.111133         0.040  ...      False   False  False   \n",
       "499997 -112.267150         0.549  ...      False   False  False   \n",
       "499998  -78.619310         0.000  ...      False   False  False   \n",
       "499999  -85.233836         0.086  ...      False   False  False   \n",
       "\n",
       "       Traffic_Calming Traffic_Signal Turning_Loop Sunrise_Sunset  \\\n",
       "0                False           True        False            Day   \n",
       "1                False          False        False          Night   \n",
       "2                False           True        False            Day   \n",
       "3                False          False        False            Day   \n",
       "4                False          False        False          Night   \n",
       "...                ...            ...          ...            ...   \n",
       "499995           False          False        False          Night   \n",
       "499996           False          False        False            Day   \n",
       "499997           False           True        False          Night   \n",
       "499998           False           True        False            Day   \n",
       "499999           False          False        False          Night   \n",
       "\n",
       "       Civil_Twilight Nautical_Twilight Astronomical_Twilight  \n",
       "0                 Day               Day                   Day  \n",
       "1               Night             Night                 Night  \n",
       "2                 Day               Day                   Day  \n",
       "3                 Day               Day                   Day  \n",
       "4               Night             Night                 Night  \n",
       "...               ...               ...                   ...  \n",
       "499995            Day               Day                   Day  \n",
       "499996            Day               Day                   Day  \n",
       "499997          Night               Day                   Day  \n",
       "499998            Day               Day                   Day  \n",
       "499999          Night             Night                 Night  \n",
       "\n",
       "[500000 rows x 46 columns]"
      ]
     },
     "execution_count": 6,
     "metadata": {},
     "output_type": "execute_result"
    }
   ],
   "source": [
    "df= pd.read_csv(\"C:\\\\Users\\\\Harkeerat Singh\\\\Desktop\\\\Class files\\\\US_Accidents_March23_sampled_500k.csv\")\n",
    "df"
   ]
  },
  {
   "cell_type": "markdown",
   "id": "85b08afa-769b-4a2b-9b47-c8b1b6f78722",
   "metadata": {},
   "source": [
    "# <span style=\"color: red; background-color: white;\">Dataset Description</span>\n",
    "\n",
    "This is a countrywide car accident dataset that covers 49 states of the USA. The accident data were collected from February 2016 to March 2023, using multiple APIs that provide streaming traffic incident (or event) data. These APIs broadcast traffic data captured by various entities, including the US and state departments of transportation, law enforcement agencies, traffic cameras, and traffic sensors within the road networks. <br>\n",
    "The dataset contains 500K accident records which is a extracted from a dataset containing around 7.7 million accident records."
   ]
  },
  {
   "cell_type": "markdown",
   "id": "3af052c8-792e-4529-a32d-4b14992abe76",
   "metadata": {},
   "source": [
    "## <span style=\"color: purple; background-color: beige;\">Descripton of column heads</span>"
   ]
  },
  {
   "cell_type": "markdown",
   "id": "c11efee8-b668-4d2a-a8cc-6e1896659dd5",
   "metadata": {},
   "source": [
    "<span style=\"color: cyan;\">**ID**</span> - This is a unique identifier of the accident record.  \n",
    "<span style=\"color: cyan;\">**Source**</span> - Source of raw accident data.  \n",
    "<span style=\"color: cyan;\">**Severity**</span> - Shows the severity of the accident, a number between 1 and 4, where 1 indicates the least impact on traffic (i.e., short delay as a result of the accident) and 4 indicates a significant impact on traffic (i.e., long delay).  \n",
    "<span style=\"color: cyan;\">**Start_Time**</span> - Shows start time of the accident in local time zone.  \n",
    "<span style=\"color: cyan;\">**End_Time**</span> - Shows end time of the accident in local time zone. End time here refers to when the impact of accident on traffic flow was dismissed.  \n",
    "<span style=\"color: cyan;\">**Start_Lat**</span> - Shows latitude in GPS coordinate of the start point.  \n",
    "<span style=\"color: cyan;\">**Start_Lng**</span> - Shows longitude in GPS coordinate of the start point.  \n",
    "<span style=\"color: cyan;\">**End_Lat**</span> - Shows latitude in GPS coordinate of the end point.  \n",
    "<span style=\"color: cyan;\">**End_Lng**</span> - Shows longitude in GPS coordinate of the end point.  \n",
    "<span style=\"color: cyan;\">**Distance(mi)**</span> - The length of the road extent affected by the accident in miles.  \n",
    "<span style=\"color: cyan;\">**Description**</span> - Shows a human-provided description of the accident.  \n",
    "<span style=\"color: cyan;\">**Street**</span> - Shows the street name in address field.  \n",
    "<span style=\"color: cyan;\">**City**</span> - Shows the city in address field.  \n",
    "<span style=\"color: cyan;\">**Count**</span> - Shows the county in address field.  \n",
    "<span style=\"color: cyan;\">**State**</span> - Shows the state in address field.  \n",
    "<span style=\"color: cyan;\">**Zipcode**</span> - Shows the zipcode in address field.  \n",
    "<span style=\"color: cyan;\">**Country**</span> - Shows the country in address field.  \n",
    "<span style=\"color: cyan;\">**Timezone**</span> - Shows timezone based on the location of the accident (eastern, central, etc.).  \n",
    "<span style=\"color: cyan;\">**Airport_Code**</span> - Denotes an airport-based weather station which is the closest one to the location of the accident.  \n",
    "<span style=\"color: cyan;\">**Weather_Timestamp**</span> - Shows the time-stamp of the weather observation record (in local time).  \n",
    "<span style=\"color: cyan;\">**Temperature(F)**</span> - Shows the temperature (in Fahrenheit).  \n",
    "<span style=\"color: cyan;\">**Wind_Chill(F)**</span> - Shows the wind chill (in Fahrenheit).  \n",
    "<span style=\"color: cyan;\">**Humidity(%)**</span> - Shows the humidity (in percentage).  \n",
    "<span style=\"color: cyan;\">**Pressure(in)**</span> - Shows the air pressure (in inches).  \n",
    "<span style=\"color: cyan;\">**Visibility(mi)**</span> - Shows visibility (in miles).  \n",
    "<span style=\"color: cyan;\">**Wind_Direction**</span> - Shows wind direction.  \n",
    "<span style=\"color: cyan;\">**Wind_Speed(mph)**</span> - Shows wind speed (in miles per hour).  \n",
    "<span style=\"color: cyan;\">**Precipitation(in)**</span> - Shows precipitation amount in inches, if there is any.  \n",
    "<span style=\"color: cyan;\">**Weather_Condition**</span> - Shows the weather condition (rain, snow, thunderstorm, fog, etc.).  \n",
    "<span style=\"color: cyan;\">**Amenity**</span> - A POI annotation which indicates the presence of an amenity in a nearby location.  \n",
    "<span style=\"color: cyan;\">**Bump**</span> - A POI annotation which indicates the presence of a speed bump or hump in a nearby location.  \n",
    "<span style=\"color: cyan;\">**Crossing**</span> - A POI annotation which indicates the presence of a crossing in a nearby location.  \n",
    "<span style=\"color: cyan;\">**Give_Way**</span> - A POI annotation which indicates the presence of a give way in a nearby location.  \n",
    "<span style=\"color: cyan;\">**Junction**</span> - A POI annotation which indicates the presence of a junction in a nearby location.  \n",
    "<span style=\"color: cyan;\">**No_Exit**</span> - A POI annotation which indicates the presence of a no-exit in a nearby location.  \n",
    "<span style=\"color: cyan;\">**Railway**</span> - A POI annotation which indicates the presence of a railway in a nearby location.  \n",
    "<span style=\"color: cyan;\">**Roundabout**</span> - A POI annotation which indicates the presence of a roundabout in a nearby location.  \n",
    "<span style=\"color: cyan;\">**Station**</span> - A POI annotation which indicates the presence of a station in a nearby location.  \n",
    "<span style=\"color: cyan;\">**Stop**</span> - A POI annotation which indicates the presence of a stop in a nearby location.  \n",
    "<span style=\"color: cyan;\">**Traffic_Calming**</span> - A POI annotation which indicates the presence of traffic calming in a nearby location.  \n",
    "<span style=\"color: cyan;\">**Traffic_Signal**</span> - A POI annotation which indicates the presence of a traffic signal in a nearby location.  \n",
    "<span style=\"color: cyan;\">**Turning_Loop**</span> - A POI annotation which indicates the presence of a turning loop in a nearby location.  \n",
    "<span style=\"color: cyan;\">**Sunrise_Sunset**</span> - Shows the period of day (i.e., day or night) based on sunrise/sunset.  \n",
    "<span style=\"color: cyan;\">**Civil_Twilight**</span> - Shows the period of day (i.e., day or night) based on civil twilight.  \n",
    "<span style=\"color: cyan;\">**Nautical_Twilight**</span> - Shows the period of day (i.e., day or night) based on nautical twilight.  \n",
    "<span style=\"color: cyan;\">**Astronomical_Twilight**</span> - Shows the period of day (i.e., day or night) based on astronomical twilight.  \n"
   ]
  },
  {
   "cell_type": "code",
   "execution_count": 10,
   "id": "d3875d8c-bbd5-438e-93b1-cab8d858895b",
   "metadata": {},
   "outputs": [
    {
     "data": {
      "text/html": [
       "<div>\n",
       "<style scoped>\n",
       "    .dataframe tbody tr th:only-of-type {\n",
       "        vertical-align: middle;\n",
       "    }\n",
       "\n",
       "    .dataframe tbody tr th {\n",
       "        vertical-align: top;\n",
       "    }\n",
       "\n",
       "    .dataframe thead th {\n",
       "        text-align: right;\n",
       "    }\n",
       "</style>\n",
       "<table border=\"1\" class=\"dataframe\">\n",
       "  <thead>\n",
       "    <tr style=\"text-align: right;\">\n",
       "      <th></th>\n",
       "      <th>Severity</th>\n",
       "      <th>Start_Lat</th>\n",
       "      <th>Start_Lng</th>\n",
       "      <th>End_Lat</th>\n",
       "      <th>End_Lng</th>\n",
       "      <th>Distance(mi)</th>\n",
       "      <th>Temperature(F)</th>\n",
       "      <th>Wind_Chill(F)</th>\n",
       "      <th>Humidity(%)</th>\n",
       "      <th>Pressure(in)</th>\n",
       "      <th>Visibility(mi)</th>\n",
       "      <th>Wind_Speed(mph)</th>\n",
       "      <th>Precipitation(in)</th>\n",
       "    </tr>\n",
       "  </thead>\n",
       "  <tbody>\n",
       "    <tr>\n",
       "      <th>count</th>\n",
       "      <td>500000.000000</td>\n",
       "      <td>500000.000000</td>\n",
       "      <td>500000.000000</td>\n",
       "      <td>279623.000000</td>\n",
       "      <td>279623.000000</td>\n",
       "      <td>500000.000000</td>\n",
       "      <td>489534.000000</td>\n",
       "      <td>370983.000000</td>\n",
       "      <td>488870.000000</td>\n",
       "      <td>491072.000000</td>\n",
       "      <td>488709.000000</td>\n",
       "      <td>463013.000000</td>\n",
       "      <td>357384.000000</td>\n",
       "    </tr>\n",
       "    <tr>\n",
       "      <th>mean</th>\n",
       "      <td>2.212748</td>\n",
       "      <td>36.206421</td>\n",
       "      <td>-94.736583</td>\n",
       "      <td>36.273192</td>\n",
       "      <td>-95.776553</td>\n",
       "      <td>0.564317</td>\n",
       "      <td>61.646254</td>\n",
       "      <td>58.229028</td>\n",
       "      <td>64.834921</td>\n",
       "      <td>29.536621</td>\n",
       "      <td>9.091540</td>\n",
       "      <td>7.681347</td>\n",
       "      <td>0.008289</td>\n",
       "    </tr>\n",
       "    <tr>\n",
       "      <th>std</th>\n",
       "      <td>0.486661</td>\n",
       "      <td>5.071411</td>\n",
       "      <td>17.405761</td>\n",
       "      <td>5.265333</td>\n",
       "      <td>18.120211</td>\n",
       "      <td>1.774872</td>\n",
       "      <td>19.000133</td>\n",
       "      <td>22.352246</td>\n",
       "      <td>22.826158</td>\n",
       "      <td>1.008666</td>\n",
       "      <td>2.708083</td>\n",
       "      <td>5.431361</td>\n",
       "      <td>0.101865</td>\n",
       "    </tr>\n",
       "    <tr>\n",
       "      <th>min</th>\n",
       "      <td>1.000000</td>\n",
       "      <td>24.562117</td>\n",
       "      <td>-124.497420</td>\n",
       "      <td>24.570110</td>\n",
       "      <td>-124.497419</td>\n",
       "      <td>0.000000</td>\n",
       "      <td>-77.800000</td>\n",
       "      <td>-53.200000</td>\n",
       "      <td>1.000000</td>\n",
       "      <td>0.120000</td>\n",
       "      <td>0.000000</td>\n",
       "      <td>0.000000</td>\n",
       "      <td>0.000000</td>\n",
       "    </tr>\n",
       "    <tr>\n",
       "      <th>25%</th>\n",
       "      <td>2.000000</td>\n",
       "      <td>33.416823</td>\n",
       "      <td>-117.233047</td>\n",
       "      <td>33.474773</td>\n",
       "      <td>-117.778324</td>\n",
       "      <td>0.000000</td>\n",
       "      <td>49.000000</td>\n",
       "      <td>43.000000</td>\n",
       "      <td>48.000000</td>\n",
       "      <td>29.370000</td>\n",
       "      <td>10.000000</td>\n",
       "      <td>4.600000</td>\n",
       "      <td>0.000000</td>\n",
       "    </tr>\n",
       "    <tr>\n",
       "      <th>50%</th>\n",
       "      <td>2.000000</td>\n",
       "      <td>35.832147</td>\n",
       "      <td>-87.794365</td>\n",
       "      <td>36.192669</td>\n",
       "      <td>-88.039013</td>\n",
       "      <td>0.029000</td>\n",
       "      <td>64.000000</td>\n",
       "      <td>62.000000</td>\n",
       "      <td>67.000000</td>\n",
       "      <td>29.860000</td>\n",
       "      <td>10.000000</td>\n",
       "      <td>7.000000</td>\n",
       "      <td>0.000000</td>\n",
       "    </tr>\n",
       "    <tr>\n",
       "      <th>75%</th>\n",
       "      <td>2.000000</td>\n",
       "      <td>40.082443</td>\n",
       "      <td>-80.359601</td>\n",
       "      <td>40.181341</td>\n",
       "      <td>-80.252449</td>\n",
       "      <td>0.465000</td>\n",
       "      <td>76.000000</td>\n",
       "      <td>75.000000</td>\n",
       "      <td>84.000000</td>\n",
       "      <td>30.030000</td>\n",
       "      <td>10.000000</td>\n",
       "      <td>10.400000</td>\n",
       "      <td>0.000000</td>\n",
       "    </tr>\n",
       "    <tr>\n",
       "      <th>max</th>\n",
       "      <td>4.000000</td>\n",
       "      <td>48.999569</td>\n",
       "      <td>-67.484130</td>\n",
       "      <td>48.998901</td>\n",
       "      <td>-67.484130</td>\n",
       "      <td>193.479996</td>\n",
       "      <td>207.000000</td>\n",
       "      <td>207.000000</td>\n",
       "      <td>100.000000</td>\n",
       "      <td>38.440000</td>\n",
       "      <td>130.000000</td>\n",
       "      <td>822.800000</td>\n",
       "      <td>10.130000</td>\n",
       "    </tr>\n",
       "  </tbody>\n",
       "</table>\n",
       "</div>"
      ],
      "text/plain": [
       "            Severity      Start_Lat      Start_Lng        End_Lat  \\\n",
       "count  500000.000000  500000.000000  500000.000000  279623.000000   \n",
       "mean        2.212748      36.206421     -94.736583      36.273192   \n",
       "std         0.486661       5.071411      17.405761       5.265333   \n",
       "min         1.000000      24.562117    -124.497420      24.570110   \n",
       "25%         2.000000      33.416823    -117.233047      33.474773   \n",
       "50%         2.000000      35.832147     -87.794365      36.192669   \n",
       "75%         2.000000      40.082443     -80.359601      40.181341   \n",
       "max         4.000000      48.999569     -67.484130      48.998901   \n",
       "\n",
       "             End_Lng   Distance(mi)  Temperature(F)  Wind_Chill(F)  \\\n",
       "count  279623.000000  500000.000000   489534.000000  370983.000000   \n",
       "mean      -95.776553       0.564317       61.646254      58.229028   \n",
       "std        18.120211       1.774872       19.000133      22.352246   \n",
       "min      -124.497419       0.000000      -77.800000     -53.200000   \n",
       "25%      -117.778324       0.000000       49.000000      43.000000   \n",
       "50%       -88.039013       0.029000       64.000000      62.000000   \n",
       "75%       -80.252449       0.465000       76.000000      75.000000   \n",
       "max       -67.484130     193.479996      207.000000     207.000000   \n",
       "\n",
       "         Humidity(%)   Pressure(in)  Visibility(mi)  Wind_Speed(mph)  \\\n",
       "count  488870.000000  491072.000000   488709.000000    463013.000000   \n",
       "mean       64.834921      29.536621        9.091540         7.681347   \n",
       "std        22.826158       1.008666        2.708083         5.431361   \n",
       "min         1.000000       0.120000        0.000000         0.000000   \n",
       "25%        48.000000      29.370000       10.000000         4.600000   \n",
       "50%        67.000000      29.860000       10.000000         7.000000   \n",
       "75%        84.000000      30.030000       10.000000        10.400000   \n",
       "max       100.000000      38.440000      130.000000       822.800000   \n",
       "\n",
       "       Precipitation(in)  \n",
       "count      357384.000000  \n",
       "mean            0.008289  \n",
       "std             0.101865  \n",
       "min             0.000000  \n",
       "25%             0.000000  \n",
       "50%             0.000000  \n",
       "75%             0.000000  \n",
       "max            10.130000  "
      ]
     },
     "execution_count": 10,
     "metadata": {},
     "output_type": "execute_result"
    }
   ],
   "source": [
    "df.describe()"
   ]
  },
  {
   "cell_type": "code",
   "execution_count": 11,
   "id": "cf737b88-ad36-41ad-ad5b-25a21ebd4e84",
   "metadata": {},
   "outputs": [
    {
     "name": "stdout",
     "output_type": "stream",
     "text": [
      "<class 'pandas.core.frame.DataFrame'>\n",
      "RangeIndex: 500000 entries, 0 to 499999\n",
      "Data columns (total 46 columns):\n",
      " #   Column                 Non-Null Count   Dtype  \n",
      "---  ------                 --------------   -----  \n",
      " 0   ID                     500000 non-null  object \n",
      " 1   Source                 500000 non-null  object \n",
      " 2   Severity               500000 non-null  int64  \n",
      " 3   Start_Time             500000 non-null  object \n",
      " 4   End_Time               500000 non-null  object \n",
      " 5   Start_Lat              500000 non-null  float64\n",
      " 6   Start_Lng              500000 non-null  float64\n",
      " 7   End_Lat                279623 non-null  float64\n",
      " 8   End_Lng                279623 non-null  float64\n",
      " 9   Distance(mi)           500000 non-null  float64\n",
      " 10  Description            499999 non-null  object \n",
      " 11  Street                 499309 non-null  object \n",
      " 12  City                   499981 non-null  object \n",
      " 13  County                 500000 non-null  object \n",
      " 14  State                  500000 non-null  object \n",
      " 15  Zipcode                499884 non-null  object \n",
      " 16  Country                500000 non-null  object \n",
      " 17  Timezone               499493 non-null  object \n",
      " 18  Airport_Code           498554 non-null  object \n",
      " 19  Weather_Timestamp      492326 non-null  object \n",
      " 20  Temperature(F)         489534 non-null  float64\n",
      " 21  Wind_Chill(F)          370983 non-null  float64\n",
      " 22  Humidity(%)            488870 non-null  float64\n",
      " 23  Pressure(in)           491072 non-null  float64\n",
      " 24  Visibility(mi)         488709 non-null  float64\n",
      " 25  Wind_Direction         488803 non-null  object \n",
      " 26  Wind_Speed(mph)        463013 non-null  float64\n",
      " 27  Precipitation(in)      357384 non-null  float64\n",
      " 28  Weather_Condition      488899 non-null  object \n",
      " 29  Amenity                500000 non-null  bool   \n",
      " 30  Bump                   500000 non-null  bool   \n",
      " 31  Crossing               500000 non-null  bool   \n",
      " 32  Give_Way               500000 non-null  bool   \n",
      " 33  Junction               500000 non-null  bool   \n",
      " 34  No_Exit                500000 non-null  bool   \n",
      " 35  Railway                500000 non-null  bool   \n",
      " 36  Roundabout             500000 non-null  bool   \n",
      " 37  Station                500000 non-null  bool   \n",
      " 38  Stop                   500000 non-null  bool   \n",
      " 39  Traffic_Calming        500000 non-null  bool   \n",
      " 40  Traffic_Signal         500000 non-null  bool   \n",
      " 41  Turning_Loop           500000 non-null  bool   \n",
      " 42  Sunrise_Sunset         498517 non-null  object \n",
      " 43  Civil_Twilight         498517 non-null  object \n",
      " 44  Nautical_Twilight      498517 non-null  object \n",
      " 45  Astronomical_Twilight  498517 non-null  object \n",
      "dtypes: bool(13), float64(12), int64(1), object(20)\n",
      "memory usage: 132.1+ MB\n"
     ]
    }
   ],
   "source": [
    "df.info()"
   ]
  },
  {
   "cell_type": "markdown",
   "id": "522fc997-46a8-45be-9f56-403d9e682fe7",
   "metadata": {},
   "source": [
    "## <span style=\"color: purple; background-color: beige;\">Converting the units of following column heads to our suitable units</span>\n",
    "1) <span style=\"font-weight: 700;\">Distance</span>-  Miles to Kilometers\n",
    "2) <span style=\"font-weight: 700;\">Temperature</span>-  Fahrenheit to Celsius\n",
    "3) <span style=\"font-weight: 700;\">Wind_Chill</span>-  Fahrenheit to Celcius\n",
    "4) <span style=\"font-weight: 700;\">Pressure</span>-  Inches to millimeters\n",
    "5) <span style=\"font-weight: 700;\">Visibility</span>-  Miles to Kilometers\n",
    "6) <span style=\"font-weight: 700;\">Wind_Speed</span>-  Miles to Kilometers\n",
    "7) <span style=\"font-weight: 700;\">Precipitation</span>-  Inches to Centimeters"
   ]
  },
  {
   "cell_type": "code",
   "execution_count": 13,
   "id": "e99fc7b7-e869-45ef-ac82-bbe46773e35f",
   "metadata": {},
   "outputs": [],
   "source": [
    "def convert_units(df1):\n",
    "    conversion_factors = {\n",
    "            'Distance(mi)': lambda x: x * 1.60934,\n",
    "            'Temperature(F)': lambda x: (x - 32) * 5 / 9,\n",
    "            'Wind_Chill(F)': lambda x: (x - 32) * 5 / 9,\n",
    "            'Pressure(in)': lambda x: x * 25.4,\n",
    "            'Visibility(mi)': lambda x: x * 1.60934,\n",
    "            'Wind_Speed(mph)': lambda x: x * 1.60934,\n",
    "            'Precipitation(in)': lambda x: x * 25.4}\n",
    "    \n",
    "    for column, func in conversion_factors.items():\n",
    "        if column in df.columns:\n",
    "             df1[column] = df1[column].apply(func)\n",
    "    return df1\n",
    "df = convert_units(df)"
   ]
  },
  {
   "cell_type": "markdown",
   "id": "8349c5f1-6af2-4f09-bde3-f9fb5a013879",
   "metadata": {},
   "source": [
    "## <span style=\"color: purple; background-color: beige;\">Renaming the column heads and then displaying them</span>"
   ]
  },
  {
   "cell_type": "code",
   "execution_count": 15,
   "id": "0b069174-77de-4412-988d-25a0cd1fdb8c",
   "metadata": {},
   "outputs": [
    {
     "data": {
      "text/html": [
       "<div>\n",
       "<style scoped>\n",
       "    .dataframe tbody tr th:only-of-type {\n",
       "        vertical-align: middle;\n",
       "    }\n",
       "\n",
       "    .dataframe tbody tr th {\n",
       "        vertical-align: top;\n",
       "    }\n",
       "\n",
       "    .dataframe thead th {\n",
       "        text-align: right;\n",
       "    }\n",
       "</style>\n",
       "<table border=\"1\" class=\"dataframe\">\n",
       "  <thead>\n",
       "    <tr style=\"text-align: right;\">\n",
       "      <th></th>\n",
       "      <th>Distance(km)</th>\n",
       "      <th>Temperature(C)</th>\n",
       "      <th>Wind_Chill(C)</th>\n",
       "      <th>Pressure(mm)</th>\n",
       "      <th>Visibility(km)</th>\n",
       "      <th>Wind_Speed(kmph)</th>\n",
       "      <th>Precipitation(mm)</th>\n",
       "    </tr>\n",
       "  </thead>\n",
       "  <tbody>\n",
       "    <tr>\n",
       "      <th>0</th>\n",
       "      <td>0.000000</td>\n",
       "      <td>25.000000</td>\n",
       "      <td>25.000000</td>\n",
       "      <td>759.968</td>\n",
       "      <td>16.0934</td>\n",
       "      <td>8.04670</td>\n",
       "      <td>0.000</td>\n",
       "    </tr>\n",
       "    <tr>\n",
       "      <th>1</th>\n",
       "      <td>0.090123</td>\n",
       "      <td>7.222222</td>\n",
       "      <td>6.111111</td>\n",
       "      <td>759.714</td>\n",
       "      <td>16.0934</td>\n",
       "      <td>8.04670</td>\n",
       "      <td>0.000</td>\n",
       "    </tr>\n",
       "    <tr>\n",
       "      <th>2</th>\n",
       "      <td>0.035405</td>\n",
       "      <td>20.000000</td>\n",
       "      <td>20.000000</td>\n",
       "      <td>756.666</td>\n",
       "      <td>16.0934</td>\n",
       "      <td>20.92142</td>\n",
       "      <td>0.000</td>\n",
       "    </tr>\n",
       "    <tr>\n",
       "      <th>3</th>\n",
       "      <td>1.696244</td>\n",
       "      <td>-2.777778</td>\n",
       "      <td>-9.444444</td>\n",
       "      <td>723.646</td>\n",
       "      <td>16.0934</td>\n",
       "      <td>24.14010</td>\n",
       "      <td>0.000</td>\n",
       "    </tr>\n",
       "    <tr>\n",
       "      <th>4</th>\n",
       "      <td>0.074030</td>\n",
       "      <td>5.555556</td>\n",
       "      <td>5.555556</td>\n",
       "      <td>756.158</td>\n",
       "      <td>16.0934</td>\n",
       "      <td>0.00000</td>\n",
       "      <td>0.000</td>\n",
       "    </tr>\n",
       "    <tr>\n",
       "      <th>...</th>\n",
       "      <td>...</td>\n",
       "      <td>...</td>\n",
       "      <td>...</td>\n",
       "      <td>...</td>\n",
       "      <td>...</td>\n",
       "      <td>...</td>\n",
       "      <td>...</td>\n",
       "    </tr>\n",
       "    <tr>\n",
       "      <th>499995</th>\n",
       "      <td>0.254276</td>\n",
       "      <td>4.444444</td>\n",
       "      <td>0.000000</td>\n",
       "      <td>750.570</td>\n",
       "      <td>16.0934</td>\n",
       "      <td>24.14010</td>\n",
       "      <td>0.254</td>\n",
       "    </tr>\n",
       "    <tr>\n",
       "      <th>499996</th>\n",
       "      <td>0.064374</td>\n",
       "      <td>25.555556</td>\n",
       "      <td>25.555556</td>\n",
       "      <td>760.476</td>\n",
       "      <td>16.0934</td>\n",
       "      <td>20.92142</td>\n",
       "      <td>0.254</td>\n",
       "    </tr>\n",
       "    <tr>\n",
       "      <th>499997</th>\n",
       "      <td>0.883528</td>\n",
       "      <td>11.111111</td>\n",
       "      <td>11.111111</td>\n",
       "      <td>633.476</td>\n",
       "      <td>16.0934</td>\n",
       "      <td>19.31208</td>\n",
       "      <td>0.000</td>\n",
       "    </tr>\n",
       "    <tr>\n",
       "      <th>499998</th>\n",
       "      <td>0.000000</td>\n",
       "      <td>27.777778</td>\n",
       "      <td>27.777778</td>\n",
       "      <td>728.980</td>\n",
       "      <td>16.0934</td>\n",
       "      <td>22.53076</td>\n",
       "      <td>0.000</td>\n",
       "    </tr>\n",
       "    <tr>\n",
       "      <th>499999</th>\n",
       "      <td>0.138403</td>\n",
       "      <td>10.000000</td>\n",
       "      <td>10.000000</td>\n",
       "      <td>743.966</td>\n",
       "      <td>16.0934</td>\n",
       "      <td>0.00000</td>\n",
       "      <td>0.000</td>\n",
       "    </tr>\n",
       "  </tbody>\n",
       "</table>\n",
       "<p>500000 rows × 7 columns</p>\n",
       "</div>"
      ],
      "text/plain": [
       "        Distance(km)  Temperature(C)  Wind_Chill(C)  Pressure(mm)  \\\n",
       "0           0.000000       25.000000      25.000000       759.968   \n",
       "1           0.090123        7.222222       6.111111       759.714   \n",
       "2           0.035405       20.000000      20.000000       756.666   \n",
       "3           1.696244       -2.777778      -9.444444       723.646   \n",
       "4           0.074030        5.555556       5.555556       756.158   \n",
       "...              ...             ...            ...           ...   \n",
       "499995      0.254276        4.444444       0.000000       750.570   \n",
       "499996      0.064374       25.555556      25.555556       760.476   \n",
       "499997      0.883528       11.111111      11.111111       633.476   \n",
       "499998      0.000000       27.777778      27.777778       728.980   \n",
       "499999      0.138403       10.000000      10.000000       743.966   \n",
       "\n",
       "        Visibility(km)  Wind_Speed(kmph)  Precipitation(mm)  \n",
       "0              16.0934           8.04670              0.000  \n",
       "1              16.0934           8.04670              0.000  \n",
       "2              16.0934          20.92142              0.000  \n",
       "3              16.0934          24.14010              0.000  \n",
       "4              16.0934           0.00000              0.000  \n",
       "...                ...               ...                ...  \n",
       "499995         16.0934          24.14010              0.254  \n",
       "499996         16.0934          20.92142              0.254  \n",
       "499997         16.0934          19.31208              0.000  \n",
       "499998         16.0934          22.53076              0.000  \n",
       "499999         16.0934           0.00000              0.000  \n",
       "\n",
       "[500000 rows x 7 columns]"
      ]
     },
     "execution_count": 15,
     "metadata": {},
     "output_type": "execute_result"
    }
   ],
   "source": [
    "def change_names(df1):\n",
    "        change_name= {\n",
    "            'Distance(mi)': 'Distance(km)',\n",
    "            'Temperature(F)': 'Temperature(C)',\n",
    "            'Wind_Chill(F)': 'Wind_Chill(C)',\n",
    "            'Pressure(in)': 'Pressure(mm)',\n",
    "            'Visibility(mi)': 'Visibility(km)',\n",
    "            'Wind_Speed(mph)': 'Wind_Speed(kmph)',\n",
    "            'Precipitation(in)': 'Precipitation(mm)'}\n",
    "\n",
    "        for old_name, new_name in change_name.items():\n",
    "            if old_name in df1.columns:\n",
    "                df1.rename(columns={old_name: new_name}, inplace= True)\n",
    "        return df1\n",
    "    \n",
    "df= change_names(df)\n",
    "df[['Distance(km)', 'Temperature(C)', 'Wind_Chill(C)', 'Pressure(mm)', 'Visibility(km)', 'Wind_Speed(kmph)', 'Precipitation(mm)']]"
   ]
  },
  {
   "cell_type": "code",
   "execution_count": 16,
   "id": "c062585d-0677-457e-8fb0-aea140676643",
   "metadata": {},
   "outputs": [
    {
     "data": {
      "text/html": [
       "<div>\n",
       "<style scoped>\n",
       "    .dataframe tbody tr th:only-of-type {\n",
       "        vertical-align: middle;\n",
       "    }\n",
       "\n",
       "    .dataframe tbody tr th {\n",
       "        vertical-align: top;\n",
       "    }\n",
       "\n",
       "    .dataframe thead th {\n",
       "        text-align: right;\n",
       "    }\n",
       "</style>\n",
       "<table border=\"1\" class=\"dataframe\">\n",
       "  <thead>\n",
       "    <tr style=\"text-align: right;\">\n",
       "      <th></th>\n",
       "      <th>0</th>\n",
       "    </tr>\n",
       "  </thead>\n",
       "  <tbody>\n",
       "    <tr>\n",
       "      <th>End_Lat</th>\n",
       "      <td>220377</td>\n",
       "    </tr>\n",
       "    <tr>\n",
       "      <th>End_Lng</th>\n",
       "      <td>220377</td>\n",
       "    </tr>\n",
       "    <tr>\n",
       "      <th>Precipitation(mm)</th>\n",
       "      <td>142616</td>\n",
       "    </tr>\n",
       "    <tr>\n",
       "      <th>Wind_Chill(C)</th>\n",
       "      <td>129017</td>\n",
       "    </tr>\n",
       "    <tr>\n",
       "      <th>Wind_Speed(kmph)</th>\n",
       "      <td>36987</td>\n",
       "    </tr>\n",
       "    <tr>\n",
       "      <th>Visibility(km)</th>\n",
       "      <td>11291</td>\n",
       "    </tr>\n",
       "    <tr>\n",
       "      <th>Wind_Direction</th>\n",
       "      <td>11197</td>\n",
       "    </tr>\n",
       "    <tr>\n",
       "      <th>Humidity(%)</th>\n",
       "      <td>11130</td>\n",
       "    </tr>\n",
       "    <tr>\n",
       "      <th>Weather_Condition</th>\n",
       "      <td>11101</td>\n",
       "    </tr>\n",
       "    <tr>\n",
       "      <th>Temperature(C)</th>\n",
       "      <td>10466</td>\n",
       "    </tr>\n",
       "    <tr>\n",
       "      <th>Pressure(mm)</th>\n",
       "      <td>8928</td>\n",
       "    </tr>\n",
       "    <tr>\n",
       "      <th>Weather_Timestamp</th>\n",
       "      <td>7674</td>\n",
       "    </tr>\n",
       "    <tr>\n",
       "      <th>Nautical_Twilight</th>\n",
       "      <td>1483</td>\n",
       "    </tr>\n",
       "    <tr>\n",
       "      <th>Civil_Twilight</th>\n",
       "      <td>1483</td>\n",
       "    </tr>\n",
       "    <tr>\n",
       "      <th>Sunrise_Sunset</th>\n",
       "      <td>1483</td>\n",
       "    </tr>\n",
       "    <tr>\n",
       "      <th>Astronomical_Twilight</th>\n",
       "      <td>1483</td>\n",
       "    </tr>\n",
       "    <tr>\n",
       "      <th>Airport_Code</th>\n",
       "      <td>1446</td>\n",
       "    </tr>\n",
       "    <tr>\n",
       "      <th>Street</th>\n",
       "      <td>691</td>\n",
       "    </tr>\n",
       "    <tr>\n",
       "      <th>Timezone</th>\n",
       "      <td>507</td>\n",
       "    </tr>\n",
       "    <tr>\n",
       "      <th>Zipcode</th>\n",
       "      <td>116</td>\n",
       "    </tr>\n",
       "    <tr>\n",
       "      <th>City</th>\n",
       "      <td>19</td>\n",
       "    </tr>\n",
       "    <tr>\n",
       "      <th>Description</th>\n",
       "      <td>1</td>\n",
       "    </tr>\n",
       "    <tr>\n",
       "      <th>Traffic_Signal</th>\n",
       "      <td>0</td>\n",
       "    </tr>\n",
       "    <tr>\n",
       "      <th>Roundabout</th>\n",
       "      <td>0</td>\n",
       "    </tr>\n",
       "    <tr>\n",
       "      <th>Station</th>\n",
       "      <td>0</td>\n",
       "    </tr>\n",
       "    <tr>\n",
       "      <th>Stop</th>\n",
       "      <td>0</td>\n",
       "    </tr>\n",
       "    <tr>\n",
       "      <th>Traffic_Calming</th>\n",
       "      <td>0</td>\n",
       "    </tr>\n",
       "    <tr>\n",
       "      <th>Country</th>\n",
       "      <td>0</td>\n",
       "    </tr>\n",
       "    <tr>\n",
       "      <th>Turning_Loop</th>\n",
       "      <td>0</td>\n",
       "    </tr>\n",
       "    <tr>\n",
       "      <th>No_Exit</th>\n",
       "      <td>0</td>\n",
       "    </tr>\n",
       "    <tr>\n",
       "      <th>End_Time</th>\n",
       "      <td>0</td>\n",
       "    </tr>\n",
       "    <tr>\n",
       "      <th>Start_Time</th>\n",
       "      <td>0</td>\n",
       "    </tr>\n",
       "    <tr>\n",
       "      <th>Severity</th>\n",
       "      <td>0</td>\n",
       "    </tr>\n",
       "    <tr>\n",
       "      <th>Railway</th>\n",
       "      <td>0</td>\n",
       "    </tr>\n",
       "    <tr>\n",
       "      <th>Crossing</th>\n",
       "      <td>0</td>\n",
       "    </tr>\n",
       "    <tr>\n",
       "      <th>Junction</th>\n",
       "      <td>0</td>\n",
       "    </tr>\n",
       "    <tr>\n",
       "      <th>Give_Way</th>\n",
       "      <td>0</td>\n",
       "    </tr>\n",
       "    <tr>\n",
       "      <th>Bump</th>\n",
       "      <td>0</td>\n",
       "    </tr>\n",
       "    <tr>\n",
       "      <th>Amenity</th>\n",
       "      <td>0</td>\n",
       "    </tr>\n",
       "    <tr>\n",
       "      <th>Start_Lat</th>\n",
       "      <td>0</td>\n",
       "    </tr>\n",
       "    <tr>\n",
       "      <th>Start_Lng</th>\n",
       "      <td>0</td>\n",
       "    </tr>\n",
       "    <tr>\n",
       "      <th>Distance(km)</th>\n",
       "      <td>0</td>\n",
       "    </tr>\n",
       "    <tr>\n",
       "      <th>Source</th>\n",
       "      <td>0</td>\n",
       "    </tr>\n",
       "    <tr>\n",
       "      <th>County</th>\n",
       "      <td>0</td>\n",
       "    </tr>\n",
       "    <tr>\n",
       "      <th>State</th>\n",
       "      <td>0</td>\n",
       "    </tr>\n",
       "    <tr>\n",
       "      <th>ID</th>\n",
       "      <td>0</td>\n",
       "    </tr>\n",
       "  </tbody>\n",
       "</table>\n",
       "</div>"
      ],
      "text/plain": [
       "                            0\n",
       "End_Lat                220377\n",
       "End_Lng                220377\n",
       "Precipitation(mm)      142616\n",
       "Wind_Chill(C)          129017\n",
       "Wind_Speed(kmph)        36987\n",
       "Visibility(km)          11291\n",
       "Wind_Direction          11197\n",
       "Humidity(%)             11130\n",
       "Weather_Condition       11101\n",
       "Temperature(C)          10466\n",
       "Pressure(mm)             8928\n",
       "Weather_Timestamp        7674\n",
       "Nautical_Twilight        1483\n",
       "Civil_Twilight           1483\n",
       "Sunrise_Sunset           1483\n",
       "Astronomical_Twilight    1483\n",
       "Airport_Code             1446\n",
       "Street                    691\n",
       "Timezone                  507\n",
       "Zipcode                   116\n",
       "City                       19\n",
       "Description                 1\n",
       "Traffic_Signal              0\n",
       "Roundabout                  0\n",
       "Station                     0\n",
       "Stop                        0\n",
       "Traffic_Calming             0\n",
       "Country                     0\n",
       "Turning_Loop                0\n",
       "No_Exit                     0\n",
       "End_Time                    0\n",
       "Start_Time                  0\n",
       "Severity                    0\n",
       "Railway                     0\n",
       "Crossing                    0\n",
       "Junction                    0\n",
       "Give_Way                    0\n",
       "Bump                        0\n",
       "Amenity                     0\n",
       "Start_Lat                   0\n",
       "Start_Lng                   0\n",
       "Distance(km)                0\n",
       "Source                      0\n",
       "County                      0\n",
       "State                       0\n",
       "ID                          0"
      ]
     },
     "execution_count": 16,
     "metadata": {},
     "output_type": "execute_result"
    }
   ],
   "source": [
    "df.isna().sum().sort_values(ascending= False).to_frame()"
   ]
  },
  {
   "cell_type": "code",
   "execution_count": 17,
   "id": "a363bc48-0cf3-41a7-b132-1f9cbaf0e323",
   "metadata": {},
   "outputs": [
    {
     "data": {
      "text/plain": [
       "<Axes: >"
      ]
     },
     "execution_count": 17,
     "metadata": {},
     "output_type": "execute_result"
    },
    {
     "data": {
      "image/png": "[encoded data removed]",
      "text/plain": [
       "<Figure size 1500x1500 with 1 Axes>"
      ]
     },
     "metadata": {},
     "output_type": "display_data"
    }
   ],
   "source": [
    "df.isna().sum().sort_values(ascending= False).plot(x='End_Lat', y='End_Lng', figsize=(15,15), kind= 'barh')"
   ]
  },
  {
   "cell_type": "markdown",
   "id": "f2762126-2baa-4674-85c2-fc75bd210750",
   "metadata": {},
   "source": [
    "<div class=\"alert alert-block alert-info\">\r\n",
    "We infer that the column <b>'Wind_Speed(kmph)'</b>, <b>'Wind_Chill(C)'</b>, <b>'Precipitation(mm)'</b>, <b>'End_Lat'</b>, <b>'End_Lng'</b> have huge number of missing values.<br>\r\n",
    "So we will avoid working with them.\r\n",
    "</div>\r\n"
   ]
  },
  {
   "cell_type": "markdown",
   "id": "824d4307-1a50-4ab5-ab63-5d4123489e75",
   "metadata": {},
   "source": [
    "<br><br><br>\n",
    "\n",
    "# <span style=\"color: red; background-color: white\">Exploratory Analysis and Visualization</span>"
   ]
  },
  {
   "cell_type": "markdown",
   "id": "4c25eb8c-c921-4355-88d0-3e2118820da8",
   "metadata": {},
   "source": [
    "## <span style=\"color: purple; background-color: beige;\">Questions to answer</span>\n",
    "1) Are there more accidents in warm or cold areas?\n",
    "2) Which states have higher accident rates?\n",
    "3) What severity rating(with respect to affect it has on traffic) has maximum accidents?\n",
    "4) Which cities have high accident rate and which ones have lower?\n",
    "5) At what time of the day most of the accidents took place, day or night?\n",
    "6) Was low visibility a major cause of most accidents?\n",
    "7) What was the number of accidents every year? Can we find any reasons for them?"
   ]
  },
  {
   "cell_type": "code",
   "execution_count": 21,
   "id": "85bb7954-b16a-4897-b3be-208f559305ef",
   "metadata": {},
   "outputs": [
    {
     "data": {
      "text/plain": [
       "Index(['ID', 'Source', 'Severity', 'Start_Time', 'End_Time', 'Start_Lat',\n",
       "       'Start_Lng', 'End_Lat', 'End_Lng', 'Distance(km)', 'Description',\n",
       "       'Street', 'City', 'County', 'State', 'Zipcode', 'Country', 'Timezone',\n",
       "       'Airport_Code', 'Weather_Timestamp', 'Temperature(C)', 'Wind_Chill(C)',\n",
       "       'Humidity(%)', 'Pressure(mm)', 'Visibility(km)', 'Wind_Direction',\n",
       "       'Wind_Speed(kmph)', 'Precipitation(mm)', 'Weather_Condition', 'Amenity',\n",
       "       'Bump', 'Crossing', 'Give_Way', 'Junction', 'No_Exit', 'Railway',\n",
       "       'Roundabout', 'Station', 'Stop', 'Traffic_Calming', 'Traffic_Signal',\n",
       "       'Turning_Loop', 'Sunrise_Sunset', 'Civil_Twilight', 'Nautical_Twilight',\n",
       "       'Astronomical_Twilight'],\n",
       "      dtype='object')"
      ]
     },
     "execution_count": 21,
     "metadata": {},
     "output_type": "execute_result"
    }
   ],
   "source": [
    "df.columns"
   ]
  },
  {
   "cell_type": "markdown",
   "id": "b4b7ae24-8d2f-4646-8a43-db92285f0daa",
   "metadata": {},
   "source": [
    "## <span style=\"color: purple; background-color: beige;\">Columns that we will work with</span>\n",
    "- Start_Time\n",
    "- City\n",
    "- State\n",
    "- Severity\n",
    "- Weather-condition\n",
    "- Temperature(C)\n",
    "- Sunrise_Sunset\n",
    "- Visibility(km)\n",
    "- Precipitation(mm)"
   ]
  },
  {
   "cell_type": "markdown",
   "id": "02969f49-9dca-48a2-8405-af0464d7f797",
   "metadata": {},
   "source": [
    "***"
   ]
  },
  {
   "cell_type": "markdown",
   "id": "8b5835d1-f8dc-42f0-84b5-e2428dc23856",
   "metadata": {},
   "source": [
    "<span style= \"font-size:25px; font-weight: 600; color: rgb(247,28,98)\">Severity of accidents</span>"
   ]
  },
  {
   "cell_type": "code",
   "execution_count": 25,
   "id": "90a7131c-fefb-4d07-b2b2-be03434712f5",
   "metadata": {},
   "outputs": [
    {
     "data": {
      "text/html": [
       "<style type=\"text/css\">\n",
       "#T_3d32c_row0_col0 {\n",
       "  width: 10em;\n",
       "  background: linear-gradient(90deg, #333b97 1.1%, transparent 1.1%);\n",
       "}\n",
       "#T_3d32c_row1_col0 {\n",
       "  width: 10em;\n",
       "  background: linear-gradient(90deg, #374a9f 3.3%, transparent 3.3%);\n",
       "}\n",
       "#T_3d32c_row2_col0 {\n",
       "  width: 10em;\n",
       "  background: linear-gradient(90deg, #7ab2d4 21.2%, transparent 21.2%);\n",
       "}\n",
       "#T_3d32c_row3_col0 {\n",
       "  width: 10em;\n",
       "  background: linear-gradient(90deg, #a50026 100.0%, transparent 100.0%);\n",
       "}\n",
       "</style>\n",
       "<table id=\"T_3d32c\">\n",
       "  <thead>\n",
       "    <tr>\n",
       "      <th class=\"blank level0\" >&nbsp;</th>\n",
       "      <th id=\"T_3d32c_level0_col0\" class=\"col_heading level0 col0\" >count</th>\n",
       "    </tr>\n",
       "    <tr>\n",
       "      <th class=\"index_name level0\" >Severity</th>\n",
       "      <th class=\"blank col0\" >&nbsp;</th>\n",
       "    </tr>\n",
       "  </thead>\n",
       "  <tbody>\n",
       "    <tr>\n",
       "      <th id=\"T_3d32c_level0_row0\" class=\"row_heading level0 row0\" >1</th>\n",
       "      <td id=\"T_3d32c_row0_col0\" class=\"data row0 col0\" >4274</td>\n",
       "    </tr>\n",
       "    <tr>\n",
       "      <th id=\"T_3d32c_level0_row1\" class=\"row_heading level0 row1\" >4</th>\n",
       "      <td id=\"T_3d32c_row1_col0\" class=\"data row1 col0\" >13064</td>\n",
       "    </tr>\n",
       "    <tr>\n",
       "      <th id=\"T_3d32c_level0_row2\" class=\"row_heading level0 row2\" >3</th>\n",
       "      <td id=\"T_3d32c_row2_col0\" class=\"data row2 col0\" >84520</td>\n",
       "    </tr>\n",
       "    <tr>\n",
       "      <th id=\"T_3d32c_level0_row3\" class=\"row_heading level0 row3\" >2</th>\n",
       "      <td id=\"T_3d32c_row3_col0\" class=\"data row3 col0\" >398142</td>\n",
       "    </tr>\n",
       "  </tbody>\n",
       "</table>\n"
      ],
      "text/plain": [
       "<pandas.io.formats.style.Styler at 0x2011d9d3890>"
      ]
     },
     "execution_count": 25,
     "metadata": {},
     "output_type": "execute_result"
    }
   ],
   "source": [
    "severity_rating= df['Severity'].value_counts().sort_values(ascending= True)\n",
    "severity_rating.to_frame().style.bar(cmap=cmap)"
   ]
  },
  {
   "cell_type": "code",
   "execution_count": 26,
   "id": "c651658a-3996-4b23-9ac6-961e3d078119",
   "metadata": {},
   "outputs": [
    {
     "data": {
      "text/plain": [
       "<Axes: title={'center': 'Severity of Accidents Distribution'}>"
      ]
     },
     "execution_count": 26,
     "metadata": {},
     "output_type": "execute_result"
    },
    {
     "data": {
      "image/png": "[encoded data removed]",
      "text/plain": [
       "<Figure size 640x480 with 1 Axes>"
      ]
     },
     "metadata": {},
     "output_type": "display_data"
    }
   ],
   "source": [
    "severity_rating.plot(y=\"Severity\", kind=\"box\", title=\"Severity of Accidents Distribution\")"
   ]
  },
  {
   "cell_type": "markdown",
   "id": "c8e4ffb3-0623-4740-97a4-2b582c816b57",
   "metadata": {},
   "source": [
    "<span style=\"color: yellow\">From the above boxplot it is clear that accidents of Severity 1, 3 and 4 are close to each other but accidents with severity\n",
    "rating 2 are a lot more than others.<br>\n",
    "Let us plot a pie chart for percentage division of different Severity ratings</span>"
   ]
  },
  {
   "cell_type": "code",
   "execution_count": 28,
   "id": "7802cb0f-36c3-42e4-b036-e4b5dd5946c0",
   "metadata": {},
   "outputs": [
    {
     "data": {
      "image/png": "[encoded data removed]",
      "text/plain": [
       "<Figure size 640x480 with 1 Axes>"
      ]
     },
     "metadata": {},
     "output_type": "display_data"
    }
   ],
   "source": [
    "colors1 = ['#ff9999', '#66b3ff', '#99ff99', '#ffcc99'] \n",
    "explode1 = (0.1, 0.2, 0.2, 0.1) \n",
    "\n",
    "df['Severity'].value_counts().plot(\n",
    "    kind='pie', \n",
    "    autopct='%1.1f%%', \n",
    "    colors=colors1, \n",
    "    explode=explode1, \n",
    "    shadow=True\n",
    ")\n",
    "\n",
    "severity_labels = ['2', '3', '4', '1']\n",
    "plt.title('Severity Rating Distribution') \n",
    "plt.ylabel('')  # Remove default y-axis label\n",
    "plt.legend(\n",
    "    labels=severity_labels,  \n",
    "    loc=(1,0.7),     \n",
    "    title='Severity Levels'\n",
    ")\n",
    "plt.show()"
   ]
  },
  {
   "cell_type": "markdown",
   "id": "b85088ab-23ad-4a71-87d7-12562ad99055",
   "metadata": {},
   "source": [
    "<div class=\"alert alert-block alert-info\">\n",
    "We conclude that accidents of severity rating 2 constitutes for the most share. So, most of the accidents are minor ones causing less delay to the traffic. After this the 2nd maximum share is of the accidents with delay a little higher than of rating 2.\n",
    "</div>"
   ]
  },
  {
   "cell_type": "markdown",
   "id": "a3eb23f7-b828-4565-9c28-c54fd574367d",
   "metadata": {},
   "source": [
    "***"
   ]
  },
  {
   "cell_type": "markdown",
   "id": "b2506687-355a-4513-a751-706da31133eb",
   "metadata": {},
   "source": [
    "<span style= \"font-size:25px; font-weight: 600; color: rgb(247,28,98)\">Year-wise accidents</span>"
   ]
  },
  {
   "cell_type": "code",
   "execution_count": 32,
   "id": "a17e1512-865b-4d85-ba22-c81f254757ed",
   "metadata": {},
   "outputs": [
    {
     "data": {
      "text/plain": [
       "Start_Year\n",
       "2023     15764\n",
       "2016     26663\n",
       "2017     46514\n",
       "2018     57578\n",
       "2019     61852\n",
       "2020     76155\n",
       "2021    101740\n",
       "2022    113734\n",
       "Name: count, dtype: int64"
      ]
     },
     "execution_count": 32,
     "metadata": {},
     "output_type": "execute_result"
    }
   ],
   "source": [
    "df['Start_Year'] = df['Start_Time'].apply(lambda x: x[:4])\n",
    "\n",
    "accidents_per_year= df['Start_Year'].value_counts()\n",
    "accidents_per_year.sort_values()"
   ]
  },
  {
   "cell_type": "code",
   "execution_count": 33,
   "id": "0fea647f-f7ce-4657-9970-1b0651c55c6a",
   "metadata": {},
   "outputs": [
    {
     "data": {
      "text/html": [
       "<style type=\"text/css\">\n",
       "#T_73714_row0_col0 {\n",
       "  width: 10em;\n",
       "  background: linear-gradient(90deg, #578abf 13.9%, transparent 13.9%);\n",
       "}\n",
       "#T_73714_row1_col0 {\n",
       "  width: 10em;\n",
       "  background: linear-gradient(90deg, #87bdd9 23.4%, transparent 23.4%);\n",
       "}\n",
       "#T_73714_row2_col0 {\n",
       "  width: 10em;\n",
       "  background: linear-gradient(90deg, #e2f4f4 40.9%, transparent 40.9%);\n",
       "}\n",
       "#T_73714_row3_col0 {\n",
       "  width: 10em;\n",
       "  background: linear-gradient(90deg, #fffdbc 50.6%, transparent 50.6%);\n",
       "}\n",
       "#T_73714_row4_col0 {\n",
       "  width: 10em;\n",
       "  background: linear-gradient(90deg, #fff1aa 54.4%, transparent 54.4%);\n",
       "}\n",
       "#T_73714_row5_col0 {\n",
       "  width: 10em;\n",
       "  background: linear-gradient(90deg, #fdbd6f 67.0%, transparent 67.0%);\n",
       "}\n",
       "#T_73714_row6_col0 {\n",
       "  width: 10em;\n",
       "  background: linear-gradient(90deg, #d83128 89.5%, transparent 89.5%);\n",
       "}\n",
       "#T_73714_row7_col0 {\n",
       "  width: 10em;\n",
       "  background: linear-gradient(90deg, #a50026 100.0%, transparent 100.0%);\n",
       "}\n",
       "</style>\n",
       "<table id=\"T_73714\">\n",
       "  <thead>\n",
       "    <tr>\n",
       "      <th class=\"blank level0\" >&nbsp;</th>\n",
       "      <th id=\"T_73714_level0_col0\" class=\"col_heading level0 col0\" >count</th>\n",
       "    </tr>\n",
       "    <tr>\n",
       "      <th class=\"index_name level0\" >Start_Year</th>\n",
       "      <th class=\"blank col0\" >&nbsp;</th>\n",
       "    </tr>\n",
       "  </thead>\n",
       "  <tbody>\n",
       "    <tr>\n",
       "      <th id=\"T_73714_level0_row0\" class=\"row_heading level0 row0\" >2023</th>\n",
       "      <td id=\"T_73714_row0_col0\" class=\"data row0 col0\" >15764</td>\n",
       "    </tr>\n",
       "    <tr>\n",
       "      <th id=\"T_73714_level0_row1\" class=\"row_heading level0 row1\" >2016</th>\n",
       "      <td id=\"T_73714_row1_col0\" class=\"data row1 col0\" >26663</td>\n",
       "    </tr>\n",
       "    <tr>\n",
       "      <th id=\"T_73714_level0_row2\" class=\"row_heading level0 row2\" >2017</th>\n",
       "      <td id=\"T_73714_row2_col0\" class=\"data row2 col0\" >46514</td>\n",
       "    </tr>\n",
       "    <tr>\n",
       "      <th id=\"T_73714_level0_row3\" class=\"row_heading level0 row3\" >2018</th>\n",
       "      <td id=\"T_73714_row3_col0\" class=\"data row3 col0\" >57578</td>\n",
       "    </tr>\n",
       "    <tr>\n",
       "      <th id=\"T_73714_level0_row4\" class=\"row_heading level0 row4\" >2019</th>\n",
       "      <td id=\"T_73714_row4_col0\" class=\"data row4 col0\" >61852</td>\n",
       "    </tr>\n",
       "    <tr>\n",
       "      <th id=\"T_73714_level0_row5\" class=\"row_heading level0 row5\" >2020</th>\n",
       "      <td id=\"T_73714_row5_col0\" class=\"data row5 col0\" >76155</td>\n",
       "    </tr>\n",
       "    <tr>\n",
       "      <th id=\"T_73714_level0_row6\" class=\"row_heading level0 row6\" >2021</th>\n",
       "      <td id=\"T_73714_row6_col0\" class=\"data row6 col0\" >101740</td>\n",
       "    </tr>\n",
       "    <tr>\n",
       "      <th id=\"T_73714_level0_row7\" class=\"row_heading level0 row7\" >2022</th>\n",
       "      <td id=\"T_73714_row7_col0\" class=\"data row7 col0\" >113734</td>\n",
       "    </tr>\n",
       "  </tbody>\n",
       "</table>\n"
      ],
      "text/plain": [
       "<pandas.io.formats.style.Styler at 0x2011e01ab10>"
      ]
     },
     "execution_count": 33,
     "metadata": {},
     "output_type": "execute_result"
    }
   ],
   "source": [
    "accidents_per_year.sort_values().to_frame().style.bar(cmap=cmap)"
   ]
  },
  {
   "cell_type": "markdown",
   "id": "d899d683-66ff-4c36-8539-feb95f999197",
   "metadata": {},
   "source": [
    "<span style=\"color: yellow\">We can clearly see that number of accidents kept increasing from 2016 to 2022 at a very high rate but in 2023 it reduced to such a low count which is least among all the years. We will try to check if there is a reason behind this such as less evisibility.</span>"
   ]
  },
  {
   "cell_type": "code",
   "execution_count": 35,
   "id": "67cdab68-ce09-432d-ba74-c63a0f2cdb77",
   "metadata": {},
   "outputs": [
    {
     "data": {
      "text/html": [
       "<div>\n",
       "<style scoped>\n",
       "    .dataframe tbody tr th:only-of-type {\n",
       "        vertical-align: middle;\n",
       "    }\n",
       "\n",
       "    .dataframe tbody tr th {\n",
       "        vertical-align: top;\n",
       "    }\n",
       "\n",
       "    .dataframe thead th {\n",
       "        text-align: right;\n",
       "    }\n",
       "</style>\n",
       "<table border=\"1\" class=\"dataframe\">\n",
       "  <thead>\n",
       "    <tr style=\"text-align: right;\">\n",
       "      <th></th>\n",
       "      <th>Visibility(km)</th>\n",
       "      <th>Year</th>\n",
       "    </tr>\n",
       "  </thead>\n",
       "  <tbody>\n",
       "    <tr>\n",
       "      <th>33</th>\n",
       "      <td>0.804670</td>\n",
       "      <td>2021</td>\n",
       "    </tr>\n",
       "    <tr>\n",
       "      <th>185</th>\n",
       "      <td>0.402335</td>\n",
       "      <td>2021</td>\n",
       "    </tr>\n",
       "    <tr>\n",
       "      <th>206</th>\n",
       "      <td>0.804670</td>\n",
       "      <td>2018</td>\n",
       "    </tr>\n",
       "    <tr>\n",
       "      <th>210</th>\n",
       "      <td>0.402335</td>\n",
       "      <td>2021</td>\n",
       "    </tr>\n",
       "    <tr>\n",
       "      <th>267</th>\n",
       "      <td>0.804670</td>\n",
       "      <td>2020</td>\n",
       "    </tr>\n",
       "    <tr>\n",
       "      <th>...</th>\n",
       "      <td>...</td>\n",
       "      <td>...</td>\n",
       "    </tr>\n",
       "    <tr>\n",
       "      <th>499462</th>\n",
       "      <td>0.804670</td>\n",
       "      <td>2021</td>\n",
       "    </tr>\n",
       "    <tr>\n",
       "      <th>499509</th>\n",
       "      <td>0.804670</td>\n",
       "      <td>2022</td>\n",
       "    </tr>\n",
       "    <tr>\n",
       "      <th>499525</th>\n",
       "      <td>0.321868</td>\n",
       "      <td>2017</td>\n",
       "    </tr>\n",
       "    <tr>\n",
       "      <th>499552</th>\n",
       "      <td>0.804670</td>\n",
       "      <td>2020</td>\n",
       "    </tr>\n",
       "    <tr>\n",
       "      <th>499672</th>\n",
       "      <td>0.402335</td>\n",
       "      <td>2022</td>\n",
       "    </tr>\n",
       "  </tbody>\n",
       "</table>\n",
       "<p>5112 rows × 2 columns</p>\n",
       "</div>"
      ],
      "text/plain": [
       "        Visibility(km)  Year\n",
       "33            0.804670  2021\n",
       "185           0.402335  2021\n",
       "206           0.804670  2018\n",
       "210           0.402335  2021\n",
       "267           0.804670  2020\n",
       "...                ...   ...\n",
       "499462        0.804670  2021\n",
       "499509        0.804670  2022\n",
       "499525        0.321868  2017\n",
       "499552        0.804670  2020\n",
       "499672        0.402335  2022\n",
       "\n",
       "[5112 rows x 2 columns]"
      ]
     },
     "execution_count": 35,
     "metadata": {},
     "output_type": "execute_result"
    }
   ],
   "source": [
    "#dropping the accidents where visibility isn't given\n",
    "df['Visibility(km)'].dropna()\n",
    "\n",
    "#filtered out accidents where visibility was less than 1km\n",
    "less_visibility_df= df['Visibility(km)'][(df['Visibility(km)']<1) & (df['Visibility(km)']>0)].to_frame()\n",
    "\n",
    "# Extract the year from the 'Start_Year' column and create a new 'Year' column in the less_visibility_df DataFrame\n",
    "less_visibility_df['Year'] = df.loc[less_visibility_df.index, 'Start_Year']\n",
    "\n",
    "less_visibility_df"
   ]
  },
  {
   "cell_type": "code",
   "execution_count": 36,
   "id": "beadd0c2-1388-4be9-b166-a6978f81edd3",
   "metadata": {},
   "outputs": [
    {
     "data": {
      "text/html": [
       "<style type=\"text/css\">\n",
       "#T_235dd_row0_col0 {\n",
       "  width: 10em;\n",
       "  background: linear-gradient(90deg, #4b7db8 11.5%, transparent 11.5%);\n",
       "}\n",
       "#T_235dd_row1_col0 {\n",
       "  width: 10em;\n",
       "  background: linear-gradient(90deg, #94c7df 26.2%, transparent 26.2%);\n",
       "}\n",
       "#T_235dd_row2_col0 {\n",
       "  width: 10em;\n",
       "  background: linear-gradient(90deg, #cbe9f2 36.1%, transparent 36.1%);\n",
       "}\n",
       "#T_235dd_row3_col0 {\n",
       "  width: 10em;\n",
       "  background: linear-gradient(90deg, #fff6b1 52.9%, transparent 52.9%);\n",
       "}\n",
       "#T_235dd_row4_col0 {\n",
       "  width: 10em;\n",
       "  background: linear-gradient(90deg, #feeca2 56.2%, transparent 56.2%);\n",
       "}\n",
       "#T_235dd_row5_col0 {\n",
       "  width: 10em;\n",
       "  background: linear-gradient(90deg, #fdbb6d 67.4%, transparent 67.4%);\n",
       "}\n",
       "#T_235dd_row6_col0 {\n",
       "  width: 10em;\n",
       "  background: linear-gradient(90deg, #e14430 86.7%, transparent 86.7%);\n",
       "}\n",
       "#T_235dd_row7_col0 {\n",
       "  width: 10em;\n",
       "  background: linear-gradient(90deg, #a50026 100.0%, transparent 100.0%);\n",
       "}\n",
       "</style>\n",
       "<table id=\"T_235dd\">\n",
       "  <thead>\n",
       "    <tr>\n",
       "      <th class=\"blank level0\" >&nbsp;</th>\n",
       "      <th id=\"T_235dd_level0_col0\" class=\"col_heading level0 col0\" >Visibility(km)</th>\n",
       "    </tr>\n",
       "    <tr>\n",
       "      <th class=\"index_name level0\" >Year</th>\n",
       "      <th class=\"blank col0\" >&nbsp;</th>\n",
       "    </tr>\n",
       "  </thead>\n",
       "  <tbody>\n",
       "    <tr>\n",
       "      <th id=\"T_235dd_level0_row0\" class=\"row_heading level0 row0\" >2016</th>\n",
       "      <td id=\"T_235dd_row0_col0\" class=\"data row0 col0\" >134</td>\n",
       "    </tr>\n",
       "    <tr>\n",
       "      <th id=\"T_235dd_level0_row1\" class=\"row_heading level0 row1\" >2023</th>\n",
       "      <td id=\"T_235dd_row1_col0\" class=\"data row1 col0\" >306</td>\n",
       "    </tr>\n",
       "    <tr>\n",
       "      <th id=\"T_235dd_level0_row2\" class=\"row_heading level0 row2\" >2017</th>\n",
       "      <td id=\"T_235dd_row2_col0\" class=\"data row2 col0\" >422</td>\n",
       "    </tr>\n",
       "    <tr>\n",
       "      <th id=\"T_235dd_level0_row3\" class=\"row_heading level0 row3\" >2018</th>\n",
       "      <td id=\"T_235dd_row3_col0\" class=\"data row3 col0\" >619</td>\n",
       "    </tr>\n",
       "    <tr>\n",
       "      <th id=\"T_235dd_level0_row4\" class=\"row_heading level0 row4\" >2019</th>\n",
       "      <td id=\"T_235dd_row4_col0\" class=\"data row4 col0\" >658</td>\n",
       "    </tr>\n",
       "    <tr>\n",
       "      <th id=\"T_235dd_level0_row5\" class=\"row_heading level0 row5\" >2020</th>\n",
       "      <td id=\"T_235dd_row5_col0\" class=\"data row5 col0\" >789</td>\n",
       "    </tr>\n",
       "    <tr>\n",
       "      <th id=\"T_235dd_level0_row6\" class=\"row_heading level0 row6\" >2021</th>\n",
       "      <td id=\"T_235dd_row6_col0\" class=\"data row6 col0\" >1014</td>\n",
       "    </tr>\n",
       "    <tr>\n",
       "      <th id=\"T_235dd_level0_row7\" class=\"row_heading level0 row7\" >2022</th>\n",
       "      <td id=\"T_235dd_row7_col0\" class=\"data row7 col0\" >1170</td>\n",
       "    </tr>\n",
       "  </tbody>\n",
       "</table>\n"
      ],
      "text/plain": [
       "<pandas.io.formats.style.Styler at 0x2011e01fbf0>"
      ]
     },
     "execution_count": 36,
     "metadata": {},
     "output_type": "execute_result"
    }
   ],
   "source": [
    "less_visibility_df.groupby('Year').count().sort_values(by='Visibility(km)', ascending= True).style.bar(cmap=cmap)"
   ]
  },
  {
   "cell_type": "code",
   "execution_count": 37,
   "id": "db100c65-9572-4c12-b2ac-caa2aa08b17e",
   "metadata": {},
   "outputs": [
    {
     "data": {
      "text/plain": [
       "Text(0.5, 1.0, 'Accidents with low visibility vs Time graph')"
      ]
     },
     "execution_count": 37,
     "metadata": {},
     "output_type": "execute_result"
    },
    {
     "data": {
      "image/png": "[encoded data removed]",
      "text/plain": [
       "<Figure size 640x480 with 1 Axes>"
      ]
     },
     "metadata": {},
     "output_type": "display_data"
    }
   ],
   "source": [
    "less_visibility_df.groupby('Year').count().plot(kind= 'line', marker='o', markerfacecolor='red', markeredgecolor='green')\n",
    "style.use(\"ggplot\")\n",
    "plt.xlabel(\"Year\")\n",
    "plt.ylabel(\"Number of accidents with low visibility\")\n",
    "plt.title(\"Accidents with low visibility vs Time graph\")"
   ]
  },
  {
   "cell_type": "markdown",
   "id": "3d96cf97-9e16-4472-ae24-99e56e851fb3",
   "metadata": {},
   "source": [
    "<span style=\"color: yellow\">From the graph and the visibility dataframe it is clearly visible that the number of accidents where visibility was less have increased from 2016-2022 and significantly dropped in 2023. We can guess that visibility could have been a reason for most if not all of the accidents.<br>\n",
    "We could have checked the same for precipitation but as we analysed above, a lot of values for the</span> Precipitation<span style=\"color: yellow\"> column so we will avoid working with it.</span>"
   ]
  },
  {
   "cell_type": "markdown",
   "id": "95c6db73-0d52-4d68-9197-ba802301435f",
   "metadata": {},
   "source": [
    "<div class=\"alert alert-block alert-info\">\n",
    "As conclusion for Year-wise Accidents,<br>\n",
    "There was an increase in number of accidents from 2016 to 2022 and a sudden drop in 2023 which maybe due to the reason that for 2023 we have less record for that year but we can ignore that for our case-study.<br>\n",
    "Also the increase in number of accidents can be advocated for the reason of lesser visibility because as the number of accidents increases every year so do the accidents where visibility was less.</div>"
   ]
  },
  {
   "cell_type": "markdown",
   "id": "2c11e807-675e-4c64-82a1-815da85d3eba",
   "metadata": {},
   "source": [
    "***"
   ]
  },
  {
   "cell_type": "markdown",
   "id": "83f4f7a1-0de6-4549-80c9-38f491f9e57b",
   "metadata": {},
   "source": [
    "<span style= \"font-size:25px; font-weight: 600; color: rgb(247,28,98)\">Cities and States by accidents</span>"
   ]
  },
  {
   "cell_type": "code",
   "execution_count": 42,
   "id": "a9043297-6de0-401a-b171-40367024b65d",
   "metadata": {},
   "outputs": [
    {
     "name": "stdout",
     "output_type": "stream",
     "text": [
      "Unique cities: \n",
      "['Zachary' 'Sterling' 'Lompoc' ... 'East Newark' 'Fleming' 'Fair Haven']\n",
      "\n",
      "There are a total of 9489 unique cities in this data set\n"
     ]
    }
   ],
   "source": [
    "cities= df.City.unique()\n",
    "print(f'Unique cities: \\n{cities}\\n\\nThere are a total of {len(cities)} unique cities in this data set')"
   ]
  },
  {
   "cell_type": "markdown",
   "id": "4ff036e9-554f-48a6-838f-f5b93458d1da",
   "metadata": {},
   "source": [
    "<span style=\"color: yellow\"> We will we working with top 20 cities having maximum number of accidents</span>"
   ]
  },
  {
   "cell_type": "code",
   "execution_count": 44,
   "id": "733ba6f5-d938-46cd-bc02-2bf8647cb590",
   "metadata": {},
   "outputs": [
    {
     "data": {
      "text/html": [
       "<div>\n",
       "<style scoped>\n",
       "    .dataframe tbody tr th:only-of-type {\n",
       "        vertical-align: middle;\n",
       "    }\n",
       "\n",
       "    .dataframe tbody tr th {\n",
       "        vertical-align: top;\n",
       "    }\n",
       "\n",
       "    .dataframe thead th {\n",
       "        text-align: right;\n",
       "    }\n",
       "</style>\n",
       "<table border=\"1\" class=\"dataframe\">\n",
       "  <thead>\n",
       "    <tr style=\"text-align: right;\">\n",
       "      <th></th>\n",
       "      <th>count</th>\n",
       "    </tr>\n",
       "    <tr>\n",
       "      <th>City</th>\n",
       "      <th></th>\n",
       "    </tr>\n",
       "  </thead>\n",
       "  <tbody>\n",
       "    <tr>\n",
       "      <th>Miami</th>\n",
       "      <td>12141</td>\n",
       "    </tr>\n",
       "    <tr>\n",
       "      <th>Houston</th>\n",
       "      <td>11031</td>\n",
       "    </tr>\n",
       "    <tr>\n",
       "      <th>Los Angeles</th>\n",
       "      <td>10299</td>\n",
       "    </tr>\n",
       "    <tr>\n",
       "      <th>Charlotte</th>\n",
       "      <td>8979</td>\n",
       "    </tr>\n",
       "    <tr>\n",
       "      <th>Dallas</th>\n",
       "      <td>8245</td>\n",
       "    </tr>\n",
       "    <tr>\n",
       "      <th>Orlando</th>\n",
       "      <td>6985</td>\n",
       "    </tr>\n",
       "    <tr>\n",
       "      <th>Austin</th>\n",
       "      <td>6269</td>\n",
       "    </tr>\n",
       "    <tr>\n",
       "      <th>Raleigh</th>\n",
       "      <td>5553</td>\n",
       "    </tr>\n",
       "    <tr>\n",
       "      <th>Nashville</th>\n",
       "      <td>4689</td>\n",
       "    </tr>\n",
       "    <tr>\n",
       "      <th>Baton Rouge</th>\n",
       "      <td>4625</td>\n",
       "    </tr>\n",
       "    <tr>\n",
       "      <th>Atlanta</th>\n",
       "      <td>4463</td>\n",
       "    </tr>\n",
       "    <tr>\n",
       "      <th>Sacramento</th>\n",
       "      <td>4358</td>\n",
       "    </tr>\n",
       "    <tr>\n",
       "      <th>San Diego</th>\n",
       "      <td>3581</td>\n",
       "    </tr>\n",
       "    <tr>\n",
       "      <th>Phoenix</th>\n",
       "      <td>3526</td>\n",
       "    </tr>\n",
       "    <tr>\n",
       "      <th>Minneapolis</th>\n",
       "      <td>3391</td>\n",
       "    </tr>\n",
       "    <tr>\n",
       "      <th>Richmond</th>\n",
       "      <td>3106</td>\n",
       "    </tr>\n",
       "    <tr>\n",
       "      <th>Oklahoma City</th>\n",
       "      <td>2932</td>\n",
       "    </tr>\n",
       "    <tr>\n",
       "      <th>Jacksonville</th>\n",
       "      <td>2689</td>\n",
       "    </tr>\n",
       "    <tr>\n",
       "      <th>Tucson</th>\n",
       "      <td>2614</td>\n",
       "    </tr>\n",
       "    <tr>\n",
       "      <th>Columbia</th>\n",
       "      <td>2530</td>\n",
       "    </tr>\n",
       "  </tbody>\n",
       "</table>\n",
       "</div>"
      ],
      "text/plain": [
       "               count\n",
       "City                \n",
       "Miami          12141\n",
       "Houston        11031\n",
       "Los Angeles    10299\n",
       "Charlotte       8979\n",
       "Dallas          8245\n",
       "Orlando         6985\n",
       "Austin          6269\n",
       "Raleigh         5553\n",
       "Nashville       4689\n",
       "Baton Rouge     4625\n",
       "Atlanta         4463\n",
       "Sacramento      4358\n",
       "San Diego       3581\n",
       "Phoenix         3526\n",
       "Minneapolis     3391\n",
       "Richmond        3106\n",
       "Oklahoma City   2932\n",
       "Jacksonville    2689\n",
       "Tucson          2614\n",
       "Columbia        2530"
      ]
     },
     "execution_count": 44,
     "metadata": {},
     "output_type": "execute_result"
    }
   ],
   "source": [
    "cities_by_accident= df.City.value_counts().sort_values(ascending= False).to_frame()      #we can also write df['City'] instead of df.City\n",
    "cities_by_accident[:20]\n",
    "\n",
    "# wish to plot a headmap of top 30 cities as rows and their states as columns"
   ]
  },
  {
   "cell_type": "code",
   "execution_count": 45,
   "id": "aa66aeb4-a142-40af-afa7-c1b58e26cafc",
   "metadata": {},
   "outputs": [
    {
     "data": {
      "text/plain": [
       "<matplotlib.legend.Legend at 0x2011e045070>"
      ]
     },
     "execution_count": 45,
     "metadata": {},
     "output_type": "execute_result"
    },
    {
     "data": {
      "image/png": "[encoded data removed]",
      "text/plain": [
       "<Figure size 1500x800 with 1 Axes>"
      ]
     },
     "metadata": {},
     "output_type": "display_data"
    }
   ],
   "source": [
    "cities_by_accident[:20].plot(kind='barh', figsize=(15,8))\n",
    "plt.title('Top 20 Cities according to number of accidents')\n",
    "plt.xlabel('Number of accidents')\n",
    "plt.legend(['Number of accidents'], fontsize= '15')"
   ]
  },
  {
   "cell_type": "code",
   "execution_count": 46,
   "id": "678ac849-65d6-4958-bf23-211cd27d2420",
   "metadata": {},
   "outputs": [
    {
     "data": {
      "text/plain": [
       "<matplotlib.legend.Legend at 0x20121632d50>"
      ]
     },
     "execution_count": 46,
     "metadata": {},
     "output_type": "execute_result"
    },
    {
     "data": {
      "image/png": "[encoded data removed]",
      "text/plain": [
       "<Figure size 640x480 with 1 Axes>"
      ]
     },
     "metadata": {},
     "output_type": "display_data"
    }
   ],
   "source": [
    "sns.histplot(cities_by_accident, log_scale= True, color='red')     # color not working\n",
    "\n",
    "plt.xlabel('Number of accidents')\n",
    "plt.ylabel('Number of cities')\n",
    "plt.title('Distribution of number of accidents vs cities')\n",
    "plt.legend('')"
   ]
  },
  {
   "cell_type": "markdown",
   "id": "c9e952ec-7871-42ea-ad4b-d3252abf4411",
   "metadata": {},
   "source": [
    "<span style=\"color: yellow\">We see that most of the cities have very less accidents and a lot of them even with 0 accidents.<br>\n",
    "There are very few cities within 100 that have accidents greater than 500</span>"
   ]
  },
  {
   "cell_type": "code",
   "execution_count": 48,
   "id": "e06be10f-6e54-4037-8b20-0dc27ba62716",
   "metadata": {},
   "outputs": [
    {
     "name": "stdout",
     "output_type": "stream",
     "text": [
      "We have data for 49 states\n"
     ]
    }
   ],
   "source": [
    "print(f'We have data for {df.State.value_counts().shape[0]} states')"
   ]
  },
  {
   "cell_type": "code",
   "execution_count": 49,
   "id": "0cabb9c9-7a3e-42d3-831d-f691b5c145d8",
   "metadata": {},
   "outputs": [
    {
     "data": {
      "text/html": [
       "<div>\n",
       "<style scoped>\n",
       "    .dataframe tbody tr th:only-of-type {\n",
       "        vertical-align: middle;\n",
       "    }\n",
       "\n",
       "    .dataframe tbody tr th {\n",
       "        vertical-align: top;\n",
       "    }\n",
       "\n",
       "    .dataframe thead th {\n",
       "        text-align: right;\n",
       "    }\n",
       "</style>\n",
       "<table border=\"1\" class=\"dataframe\">\n",
       "  <thead>\n",
       "    <tr style=\"text-align: right;\">\n",
       "      <th></th>\n",
       "      <th>count</th>\n",
       "    </tr>\n",
       "    <tr>\n",
       "      <th>State</th>\n",
       "      <th></th>\n",
       "    </tr>\n",
       "  </thead>\n",
       "  <tbody>\n",
       "    <tr>\n",
       "      <th>CA</th>\n",
       "      <td>113274</td>\n",
       "    </tr>\n",
       "    <tr>\n",
       "      <th>FL</th>\n",
       "      <td>56710</td>\n",
       "    </tr>\n",
       "    <tr>\n",
       "      <th>TX</th>\n",
       "      <td>37355</td>\n",
       "    </tr>\n",
       "    <tr>\n",
       "      <th>SC</th>\n",
       "      <td>24737</td>\n",
       "    </tr>\n",
       "    <tr>\n",
       "      <th>NY</th>\n",
       "      <td>22594</td>\n",
       "    </tr>\n",
       "    <tr>\n",
       "      <th>NC</th>\n",
       "      <td>21750</td>\n",
       "    </tr>\n",
       "    <tr>\n",
       "      <th>VA</th>\n",
       "      <td>19515</td>\n",
       "    </tr>\n",
       "    <tr>\n",
       "      <th>PA</th>\n",
       "      <td>19351</td>\n",
       "    </tr>\n",
       "    <tr>\n",
       "      <th>MN</th>\n",
       "      <td>12333</td>\n",
       "    </tr>\n",
       "    <tr>\n",
       "      <th>OR</th>\n",
       "      <td>11559</td>\n",
       "    </tr>\n",
       "  </tbody>\n",
       "</table>\n",
       "</div>"
      ],
      "text/plain": [
       "        count\n",
       "State        \n",
       "CA     113274\n",
       "FL      56710\n",
       "TX      37355\n",
       "SC      24737\n",
       "NY      22594\n",
       "NC      21750\n",
       "VA      19515\n",
       "PA      19351\n",
       "MN      12333\n",
       "OR      11559"
      ]
     },
     "execution_count": 49,
     "metadata": {},
     "output_type": "execute_result"
    }
   ],
   "source": [
    "states_by_accident= df.State.value_counts().sort_values(ascending= False).to_frame()\n",
    "states_by_accident.head(10)"
   ]
  },
  {
   "cell_type": "code",
   "execution_count": 50,
   "id": "27052fdf-fa0e-446a-afc7-430066e40b44",
   "metadata": {},
   "outputs": [
    {
     "data": {
      "text/plain": [
       "<Axes: title={'center': 'State-wise Accidents Distribution'}>"
      ]
     },
     "execution_count": 50,
     "metadata": {},
     "output_type": "execute_result"
    },
    {
     "data": {
      "image/png": "[encoded data removed]",
      "text/plain": [
       "<Figure size 640x480 with 1 Axes>"
      ]
     },
     "metadata": {},
     "output_type": "display_data"
    }
   ],
   "source": [
    "states_by_accident.plot(y=\"count\", kind=\"box\", title=\"State-wise Accidents Distribution\")\n",
    "# How to find names of outliers"
   ]
  },
  {
   "cell_type": "markdown",
   "id": "18bfdc3b-27ee-41ef-99c1-b297465b168c",
   "metadata": {},
   "source": [
    "<span style=\"color: yellow\">There are 3 states that are outliers, i.e. California(CA), Florida(FL) and Texas(TX). Rest of the states have number of accidents within normal range of distribution.</span>"
   ]
  },
  {
   "cell_type": "markdown",
   "id": "81cfa4b1-89eb-45e4-8ab9-2518d3d4883e",
   "metadata": {},
   "source": [
    "<div class=\"alert alert-block alert-info\">\n",
    "As conclusion for Cities and States by Accidents,<br>\n",
    "For cities, most of them have accidents less than 1000 with Miami having the maximum at around 120K<br>\n",
    "For states, all 49 states except California, Florida and Texas have number of accidents within a normal range</div>"
   ]
  },
  {
   "cell_type": "markdown",
   "id": "39df62bc-4d9c-430f-8ded-89f955b24198",
   "metadata": {},
   "source": [
    "***"
   ]
  },
  {
   "cell_type": "markdown",
   "id": "88351978-00b3-4e3d-8beb-96681cb2cc01",
   "metadata": {},
   "source": [
    "<span style= \"font-size:25px; font-weight: 600; color: rgb(247,28,98)\">Temperature and Accidents</span>"
   ]
  },
  {
   "cell_type": "code",
   "execution_count": 55,
   "id": "ef15fe66-59fb-44af-882d-66129fdc6bdc",
   "metadata": {},
   "outputs": [
    {
     "data": {
      "text/html": [
       "<style type=\"text/css\">\n",
       "#T_417b9_row0_col0 {\n",
       "  width: 10em;\n",
       "  background: linear-gradient(90deg, #4065ac 7.5%, transparent 7.5%);\n",
       "}\n",
       "#T_417b9_row1_col0 {\n",
       "  width: 10em;\n",
       "  background: linear-gradient(90deg, #a50026 100.0%, transparent 100.0%);\n",
       "}\n",
       "</style>\n",
       "<table id=\"T_417b9\">\n",
       "  <thead>\n",
       "    <tr>\n",
       "      <th class=\"blank level0\" >&nbsp;</th>\n",
       "      <th id=\"T_417b9_level0_col0\" class=\"col_heading level0 col0\" >count</th>\n",
       "    </tr>\n",
       "    <tr>\n",
       "      <th class=\"index_name level0\" >Temperature Group</th>\n",
       "      <th class=\"blank col0\" >&nbsp;</th>\n",
       "    </tr>\n",
       "  </thead>\n",
       "  <tbody>\n",
       "    <tr>\n",
       "      <th id=\"T_417b9_level0_row0\" class=\"row_heading level0 row0\" >Cold region</th>\n",
       "      <td id=\"T_417b9_row0_col0\" class=\"data row0 col0\" >34971</td>\n",
       "    </tr>\n",
       "    <tr>\n",
       "      <th id=\"T_417b9_level0_row1\" class=\"row_heading level0 row1\" >Warm region</th>\n",
       "      <td id=\"T_417b9_row1_col0\" class=\"data row1 col0\" >465029</td>\n",
       "    </tr>\n",
       "  </tbody>\n",
       "</table>\n"
      ],
      "text/plain": [
       "<pandas.io.formats.style.Styler at 0x20105c63860>"
      ]
     },
     "execution_count": 55,
     "metadata": {},
     "output_type": "execute_result"
    }
   ],
   "source": [
    "df['Temperature Group'] = df['Temperature(C)'].apply(lambda x: 'Cold region' if x < 0 else 'Warm region')\n",
    "temp_group_count = df['Temperature Group'].value_counts().sort_values(ascending= True).to_frame().style.bar(cmap=cmap)\n",
    "temp_group_count"
   ]
  },
  {
   "cell_type": "markdown",
   "id": "3d36735f-3ad2-48d1-a114-8e6432a4c4c5",
   "metadata": {},
   "source": [
    "<span style=\"color: yellow\"> We will take areas with temperatures less than or equal to 0 as cold areas and the ones with temperatures greater than 0 as warm areas.</span>"
   ]
  },
  {
   "cell_type": "code",
   "execution_count": 57,
   "id": "aa75f28f-9f7c-4003-82a5-b9bde2544160",
   "metadata": {},
   "outputs": [
    {
     "data": {
      "text/plain": [
       "<Figure size 800x600 with 0 Axes>"
      ]
     },
     "metadata": {},
     "output_type": "display_data"
    },
    {
     "data": {
      "image/png": "[encoded data removed]",
      "text/plain": [
       "<Figure size 640x480 with 1 Axes>"
      ]
     },
     "metadata": {},
     "output_type": "display_data"
    }
   ],
   "source": [
    "warm_cold= df['Temperature Group'].value_counts().sort_values(ascending= True).to_frame()\n",
    "\n",
    "plt.figure(figsize=(8, 6))\n",
    "warm_cold.plot(kind='bar', color=['red', 'blue'])      #colors not working\n",
    "plt.title('Number of accidents in warm and cold areas')\n",
    "plt.legend('')\n",
    "plt.xlabel('Warm and Cold')\n",
    "plt.ylabel('Number of Cities')\n",
    "plt.xticks(rotation=0)  # To keep the x-axis labels horizontal\n",
    "plt.show()"
   ]
  },
  {
   "cell_type": "code",
   "execution_count": 58,
   "id": "83581146-e6e9-486d-b6cf-4980f801e7d4",
   "metadata": {},
   "outputs": [
    {
     "data": {
      "image/png": "[encoded data removed]",
      "text/plain": [
       "<Figure size 640x480 with 1 Axes>"
      ]
     },
     "metadata": {},
     "output_type": "display_data"
    }
   ],
   "source": [
    "colors2 = ['#ff9999', '#ffcc99'] \n",
    "explode2 = (0.1, 0,) \n",
    "\n",
    "df['Temperature Group'].value_counts().plot(\n",
    "    kind='pie', \n",
    "    autopct='%1.1f%%', \n",
    "    colors=colors2, \n",
    "    explode=explode2, \n",
    "    shadow=True\n",
    ")\n",
    "\n",
    "region_labels = ['Warm region', 'Cold Region']\n",
    "plt.title('Accidents distribution by temperature') \n",
    "plt.ylabel('')  # Remove default y-axis label\n",
    "plt.legend(\n",
    "    labels=region_labels,  \n",
    "    loc=(1,0.7),     \n",
    "    title='Regions'\n",
    ")\n",
    "plt.show()"
   ]
  },
  {
   "cell_type": "markdown",
   "id": "43a17e0b-6a49-46a0-b44f-b0d9ff010403",
   "metadata": {},
   "source": [
    "<div class=\"alert alert-block alert-info\">\n",
    "As conclusion for Temperature and Accidents,<br>\n",
    "93% of the accidents took place in warm regions and only 7% in cold region. So we cannot say that snow or black ice on roads can be reason for the accidents.</div>"
   ]
  },
  {
   "cell_type": "markdown",
   "id": "20c117bc-f285-49f9-bf23-9692de404181",
   "metadata": {},
   "source": [
    "***"
   ]
  },
  {
   "cell_type": "markdown",
   "id": "0e2db424-730c-4cfb-bcee-b4310d65ee5c",
   "metadata": {},
   "source": [
    "<span style= \"font-size:25px; font-weight: 600; color: rgb(247,28,98)\">Time of Accidents</span>"
   ]
  },
  {
   "cell_type": "code",
   "execution_count": 62,
   "id": "fadbff7d-0137-4ec3-bfc0-cbc54b2c174e",
   "metadata": {},
   "outputs": [
    {
     "data": {
      "text/html": [
       "<style type=\"text/css\">\n",
       "#T_71e13_row0_col0 {\n",
       "  width: 10em;\n",
       "  background: linear-gradient(90deg, #a50026 100.0%, transparent 100.0%);\n",
       "}\n",
       "#T_71e13_row1_col0 {\n",
       "  width: 10em;\n",
       "  background: linear-gradient(90deg, #edf8df 44.5%, transparent 44.5%);\n",
       "}\n",
       "</style>\n",
       "<table id=\"T_71e13\">\n",
       "  <thead>\n",
       "    <tr>\n",
       "      <th class=\"blank level0\" >&nbsp;</th>\n",
       "      <th id=\"T_71e13_level0_col0\" class=\"col_heading level0 col0\" >count</th>\n",
       "    </tr>\n",
       "    <tr>\n",
       "      <th class=\"index_name level0\" >Sunrise_Sunset</th>\n",
       "      <th class=\"blank col0\" >&nbsp;</th>\n",
       "    </tr>\n",
       "  </thead>\n",
       "  <tbody>\n",
       "    <tr>\n",
       "      <th id=\"T_71e13_level0_row0\" class=\"row_heading level0 row0\" >Day</th>\n",
       "      <td id=\"T_71e13_row0_col0\" class=\"data row0 col0\" >344967</td>\n",
       "    </tr>\n",
       "    <tr>\n",
       "      <th id=\"T_71e13_level0_row1\" class=\"row_heading level0 row1\" >Night</th>\n",
       "      <td id=\"T_71e13_row1_col0\" class=\"data row1 col0\" >153550</td>\n",
       "    </tr>\n",
       "  </tbody>\n",
       "</table>\n"
      ],
      "text/plain": [
       "<pandas.io.formats.style.Styler at 0x20121ed4d70>"
      ]
     },
     "execution_count": 62,
     "metadata": {},
     "output_type": "execute_result"
    }
   ],
   "source": [
    "time= df['Sunrise_Sunset'].value_counts().to_frame()\n",
    "\n",
    "styled_time_df= df['Sunrise_Sunset'].value_counts().to_frame().style.bar(cmap=cmap)\n",
    "styled_time_df"
   ]
  },
  {
   "cell_type": "code",
   "execution_count": null,
   "id": "9576efed-9d50-4731-8f9f-61c17b03c074",
   "metadata": {},
   "outputs": [
    {
     "data": {
      "text/plain": [
       "Text(0.5, 1.0, 'Distribution of accidents by Night and Day')"
      ]
     },
     "execution_count": 63,
     "metadata": {},
     "output_type": "execute_result"
    }
   ],
   "source": [
    "time.plot(kind='barh', color='purple', figsize= (10,5))\n",
    "\n",
    "plt.legend(['Number of accidents'], fontsize= '12')\n",
    "plt.xlabel('Accident count')\n",
    "plt.ylabel('Time of the Day')\n",
    "plt.title('Distribution of accidents by Night and Day')"
   ]
  },
  {
   "cell_type": "markdown",
   "id": "acd64b35-4c7b-4433-983b-3d42b07e0541",
   "metadata": {},
   "source": [
    "<div class=\"alert alert-block alert-info\">\n",
    "As conclusion for Time of Accidents,<br>\n",
    "Most of the accidents took place during the day and not even half of the accidents at night as compared to during the day. From this we can say that night lights of incoming traffic or less visibility was not a major reason for so many accidents</div>"
   ]
  },
  {
   "cell_type": "markdown",
   "id": "e002963e-030a-4778-b0cc-5753c2e84195",
   "metadata": {},
   "source": [
    "***"
   ]
  },
  {
   "cell_type": "markdown",
   "id": "2e327fc8-1de4-4b75-8737-a7a7b6a89fa1",
   "metadata": {},
   "source": [
    "# <span style=\"color: red; background-color: white;\">References"
   ]
  },
  {
   "cell_type": "markdown",
   "id": "9c7b2c67-23ae-4697-877d-8ab806c3e10d",
   "metadata": {},
   "source": [
    "## **Inspirations**"
   ]
  },
  {
   "cell_type": "markdown",
   "id": "8ade51a2-8408-4950-82cf-0d67d1eedc37",
   "metadata": {},
   "source": [
    "The US-Accidents dataset can be used for numerous applications, such as real-time car accident prediction, studying car accident hotspot locations, casualty analysis, extracting cause and effect rules to predict car accidents, and studying the impact of precipitation or other environmental stimuli on accident occurrence. The most recent release of the dataset can also be useful for studying the impact of COVID-19 on traffic behavior and accidents."
   ]
  },
  {
   "cell_type": "markdown",
   "id": "0453efbd-d5cc-4973-9833-3d6136334abd",
   "metadata": {},
   "source": [
    "### **Collborators**"
   ]
  },
  {
   "cell_type": "markdown",
   "id": "f35384d4-b4c1-4d53-a248-a635024db35c",
   "metadata": {},
   "source": [
    "Sobhan Moosavi    (Scientist at Zoox, previously at Lyft, former CSE PhD student at Ohio State University)"
   ]
  },
  {
   "cell_type": "markdown",
   "id": "dea6a383-a999-4615-b4e9-1f4699e26e1a",
   "metadata": {},
   "source": [
    "### Coverage"
   ]
  },
  {
   "cell_type": "markdown",
   "id": "c291b296-7bac-4bfd-89b7-e86429f14c36",
   "metadata": {},
   "source": [
    "Temporal Coverage Start Date- 01/01/2016<br>\n",
    "Temporal Coverage End Date- 04/01/2023<br>\n",
    "Geospatial Coverage- United States"
   ]
  },
  {
   "cell_type": "markdown",
   "id": "2e80fe50-28fc-4f56-aea3-f48f96d1fbc6",
   "metadata": {},
   "source": [
    "### **DOI Citation**"
   ]
  },
  {
   "cell_type": "markdown",
   "id": "735384b7-f27a-4ca9-84d8-53703fbe7a70",
   "metadata": {},
   "source": [
    "**DOI (Digital Object Identifier)**- 10.34740/kaggle/ds/199387 <br>\n",
    "\n",
    "**Citation Type**- BibTeX"
   ]
  },
  {
   "cell_type": "markdown",
   "id": "730e0c6c-efc4-40af-9f94-a2df429e4a5a",
   "metadata": {},
   "source": [
    "**Citation:**\r\n",
    "\r\n",
    "```bibtex\r\n",
    "@misc{sobhan_moosavi_2023,\r\n",
    "  title={US Accidents (2016 - 2023)},\r\n",
    "  url={https://www.kaggle.com/ds/199387},\r\n",
    "  DOI={10.34740/KAGGLE/DS/199387},\r\n",
    "  publisher={Kaggle},\r\n",
    "  author={Sobhan Moosavi},\r\n",
    "  year={2023}\r\n",
    "}\r\n",
    "```\r\n"
   ]
  },
  {
   "cell_type": "markdown",
   "id": "90774b60-711f-4952-b42a-8911ba6c186a",
   "metadata": {},
   "source": [
    "### Provenance"
   ]
  },
  {
   "cell_type": "markdown",
   "id": "ad77c274-a264-443d-b31c-21901cda1a3b",
   "metadata": {},
   "source": [
    "Sources-<br>\n",
    "Traffic streaming APIs that broadcast live events<br>\n",
    "\n",
    "Collection Methodology-<br>\n",
    "A real-time framework that collects important events (e.g. accidents)"
   ]
  },
  {
   "cell_type": "markdown",
   "id": "29fb3cc0-7727-4bfe-8042-cb252618b16b",
   "metadata": {},
   "source": [
    "### License"
   ]
  },
  {
   "cell_type": "markdown",
   "id": "ac24da1e-6c47-426f-9d4d-fd8401ad5c4c",
   "metadata": {},
   "source": [
    "CC BY-NC-SA 4.0- \n",
    "https://creativecommons.org/licenses/by-nc-sa/4.0/"
   ]
  }
 ],
 "metadata": {
  "kernelspec": {
   "display_name": "Python 3 (ipykernel)",
   "language": "python",
   "name": "python3"
  },
  "language_info": {
   "codemirror_mode": {
    "name": "ipython",
    "version": 3
   },
   "file_extension": ".py",
   "mimetype": "text/x-python",
   "name": "python",
   "nbconvert_exporter": "python",
   "pygments_lexer": "ipython3",
   "version": "3.12.4"
  }
 },
 "nbformat": 4,
 "nbformat_minor": 5
}
